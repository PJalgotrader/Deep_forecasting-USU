{
  "cells": [
    {
      "attachments": {},
      "cell_type": "markdown",
      "metadata": {
        "id": "_8_sWAMSLUYi"
      },
      "source": [
        "### Prof. Pedram Jahangiry\n",
        "\n",
        "You need to make a copy to your own Google drive if you want to edit the original notebook! Start by opening this notebook on Colab 👇\n",
        "\n",
        "<a href=\"https://colab.research.google.com/github/PJalgotrader/Deep_forecasting-USU/blob/main/Lectures%20and%20codes/DF%20Spring%202023/Module%207-%20Deep%20Sequence%20Modeling/Python/Module7_Univariate_RNN-LSTM.ipynb\" target=\"_parent\"><img src=\"https://colab.research.google.com/assets/colab-badge.svg\" alt=\"Open In Colab\"/></a> \n",
        "\n",
        "\n",
        "\n",
        "![logo](https://upload.wikimedia.org/wikipedia/commons/4/44/Huntsman-Wordmark-with-USU-Blue.gif#center) \n",
        "\n",
        "\n",
        "## 🔗 Links\n",
        "\n",
        "[![linkedin](https://img.shields.io/badge/LinkedIn-0A66C2?style=for-the-badge&logo=linkedin&logoColor=white)](https://www.linkedin.com/in/pedram-jahangiry-cfa-5778015a)\n",
        "\n",
        "[![Youtube](https://img.shields.io/badge/youtube_channel-1DA1F2?style=for-the-badge&logo=youtube&logoColor=white&color=FF0000)](https://www.youtube.com/channel/UCNDElcuuyX-2pSatVBDpJJQ)\n",
        "\n",
        "[![Twitter URL](https://img.shields.io/twitter/url/https/twitter.com/PedramJahangiry.svg?style=social&label=Follow%20%40PedramJahangiry)](https://twitter.com/PedramJahangiry)\n",
        "\n",
        "\n",
        "---\n"
      ]
    },
    {
      "cell_type": "markdown",
      "metadata": {
        "id": "cNuJnzZgMVcq"
      },
      "source": [
        "# Module 7: Deep Sequence Modeling (timeseries forecasting)\n",
        "\n",
        "This module provides a comprehensive overview of fundamental concepts and techniques related to deep sequence modeling. Part one explores deep learning for timeseries data, highlighting the inadequacy of DNN and CNN architectures for this task and introducing the recurrent neural network (RNN) as a solution. "
      ]
    },
    {
      "cell_type": "markdown",
      "metadata": {
        "id": "2XJ1pK1xO76L"
      },
      "source": [
        "# Installation"
      ]
    },
    {
      "cell_type": "markdown",
      "metadata": {
        "id": "dPJb_F_9ki9d"
      },
      "source": [
        "* If you want to run your code on Google Colab, there is no installation required. (recommended for the course)\n",
        "* If you want to run your code locally, then you need to install tensorflow first: https://www.tensorflow.org/install\n"
      ]
    },
    {
      "cell_type": "code",
      "execution_count": null,
      "metadata": {
        "colab": {
          "base_uri": "https://localhost:8080/",
          "height": 36
        },
        "id": "Eq1trNBdki9d",
        "outputId": "af927b0f-c873-4470-d275-c34a7184e5cf"
      },
      "outputs": [
        {
          "data": {
            "application/vnd.google.colaboratory.intrinsic+json": {
              "type": "string"
            },
            "text/plain": [
              "'2.12.0'"
            ]
          },
          "execution_count": 1,
          "metadata": {},
          "output_type": "execute_result"
        }
      ],
      "source": [
        "import tensorflow \n",
        "tensorflow.__version__"
      ]
    },
    {
      "cell_type": "code",
      "execution_count": null,
      "metadata": {
        "id": "agToUoxmLUYk"
      },
      "outputs": [],
      "source": [
        "import pandas as pd\n",
        "import numpy as np\n",
        "import matplotlib.pyplot as plt\n",
        "import warnings\n",
        "warnings.filterwarnings('ignore')"
      ]
    },
    {
      "cell_type": "markdown",
      "metadata": {
        "id": "KsWH9qAnO76c",
        "tags": []
      },
      "source": [
        "# Importing Dataset"
      ]
    },
    {
      "cell_type": "code",
      "execution_count": null,
      "metadata": {
        "colab": {
          "base_uri": "https://localhost:8080/",
          "height": 237
        },
        "id": "w4CVXXIELUYl",
        "outputId": "aecd66c1-4cfe-45f8-b44c-1991890d62f0"
      },
      "outputs": [
        {
          "data": {
            "text/html": [
              "\n",
              "  <div id=\"df-2477fc64-9217-4a49-83d9-d86ac2929485\">\n",
              "    <div class=\"colab-df-container\">\n",
              "      <div>\n",
              "<style scoped>\n",
              "    .dataframe tbody tr th:only-of-type {\n",
              "        vertical-align: middle;\n",
              "    }\n",
              "\n",
              "    .dataframe tbody tr th {\n",
              "        vertical-align: top;\n",
              "    }\n",
              "\n",
              "    .dataframe thead th {\n",
              "        text-align: right;\n",
              "    }\n",
              "</style>\n",
              "<table border=\"1\" class=\"dataframe\">\n",
              "  <thead>\n",
              "    <tr style=\"text-align: right;\">\n",
              "      <th></th>\n",
              "      <th>Passengers</th>\n",
              "    </tr>\n",
              "    <tr>\n",
              "      <th>Month</th>\n",
              "      <th></th>\n",
              "    </tr>\n",
              "  </thead>\n",
              "  <tbody>\n",
              "    <tr>\n",
              "      <th>1949-01</th>\n",
              "      <td>112</td>\n",
              "    </tr>\n",
              "    <tr>\n",
              "      <th>1949-02</th>\n",
              "      <td>118</td>\n",
              "    </tr>\n",
              "    <tr>\n",
              "      <th>1949-03</th>\n",
              "      <td>132</td>\n",
              "    </tr>\n",
              "    <tr>\n",
              "      <th>1949-04</th>\n",
              "      <td>129</td>\n",
              "    </tr>\n",
              "    <tr>\n",
              "      <th>1949-05</th>\n",
              "      <td>121</td>\n",
              "    </tr>\n",
              "  </tbody>\n",
              "</table>\n",
              "</div>\n",
              "      <button class=\"colab-df-convert\" onclick=\"convertToInteractive('df-2477fc64-9217-4a49-83d9-d86ac2929485')\"\n",
              "              title=\"Convert this dataframe to an interactive table.\"\n",
              "              style=\"display:none;\">\n",
              "        \n",
              "  <svg xmlns=\"http://www.w3.org/2000/svg\" height=\"24px\"viewBox=\"0 0 24 24\"\n",
              "       width=\"24px\">\n",
              "    <path d=\"M0 0h24v24H0V0z\" fill=\"none\"/>\n",
              "    <path d=\"M18.56 5.44l.94 2.06.94-2.06 2.06-.94-2.06-.94-.94-2.06-.94 2.06-2.06.94zm-11 1L8.5 8.5l.94-2.06 2.06-.94-2.06-.94L8.5 2.5l-.94 2.06-2.06.94zm10 10l.94 2.06.94-2.06 2.06-.94-2.06-.94-.94-2.06-.94 2.06-2.06.94z\"/><path d=\"M17.41 7.96l-1.37-1.37c-.4-.4-.92-.59-1.43-.59-.52 0-1.04.2-1.43.59L10.3 9.45l-7.72 7.72c-.78.78-.78 2.05 0 2.83L4 21.41c.39.39.9.59 1.41.59.51 0 1.02-.2 1.41-.59l7.78-7.78 2.81-2.81c.8-.78.8-2.07 0-2.86zM5.41 20L4 18.59l7.72-7.72 1.47 1.35L5.41 20z\"/>\n",
              "  </svg>\n",
              "      </button>\n",
              "      \n",
              "  <style>\n",
              "    .colab-df-container {\n",
              "      display:flex;\n",
              "      flex-wrap:wrap;\n",
              "      gap: 12px;\n",
              "    }\n",
              "\n",
              "    .colab-df-convert {\n",
              "      background-color: #E8F0FE;\n",
              "      border: none;\n",
              "      border-radius: 50%;\n",
              "      cursor: pointer;\n",
              "      display: none;\n",
              "      fill: #1967D2;\n",
              "      height: 32px;\n",
              "      padding: 0 0 0 0;\n",
              "      width: 32px;\n",
              "    }\n",
              "\n",
              "    .colab-df-convert:hover {\n",
              "      background-color: #E2EBFA;\n",
              "      box-shadow: 0px 1px 2px rgba(60, 64, 67, 0.3), 0px 1px 3px 1px rgba(60, 64, 67, 0.15);\n",
              "      fill: #174EA6;\n",
              "    }\n",
              "\n",
              "    [theme=dark] .colab-df-convert {\n",
              "      background-color: #3B4455;\n",
              "      fill: #D2E3FC;\n",
              "    }\n",
              "\n",
              "    [theme=dark] .colab-df-convert:hover {\n",
              "      background-color: #434B5C;\n",
              "      box-shadow: 0px 1px 3px 1px rgba(0, 0, 0, 0.15);\n",
              "      filter: drop-shadow(0px 1px 2px rgba(0, 0, 0, 0.3));\n",
              "      fill: #FFFFFF;\n",
              "    }\n",
              "  </style>\n",
              "\n",
              "      <script>\n",
              "        const buttonEl =\n",
              "          document.querySelector('#df-2477fc64-9217-4a49-83d9-d86ac2929485 button.colab-df-convert');\n",
              "        buttonEl.style.display =\n",
              "          google.colab.kernel.accessAllowed ? 'block' : 'none';\n",
              "\n",
              "        async function convertToInteractive(key) {\n",
              "          const element = document.querySelector('#df-2477fc64-9217-4a49-83d9-d86ac2929485');\n",
              "          const dataTable =\n",
              "            await google.colab.kernel.invokeFunction('convertToInteractive',\n",
              "                                                     [key], {});\n",
              "          if (!dataTable) return;\n",
              "\n",
              "          const docLinkHtml = 'Like what you see? Visit the ' +\n",
              "            '<a target=\"_blank\" href=https://colab.research.google.com/notebooks/data_table.ipynb>data table notebook</a>'\n",
              "            + ' to learn more about interactive tables.';\n",
              "          element.innerHTML = '';\n",
              "          dataTable['output_type'] = 'display_data';\n",
              "          await google.colab.output.renderOutput(dataTable, element);\n",
              "          const docLink = document.createElement('div');\n",
              "          docLink.innerHTML = docLinkHtml;\n",
              "          element.appendChild(docLink);\n",
              "        }\n",
              "      </script>\n",
              "    </div>\n",
              "  </div>\n",
              "  "
            ],
            "text/plain": [
              "         Passengers\n",
              "Month              \n",
              "1949-01         112\n",
              "1949-02         118\n",
              "1949-03         132\n",
              "1949-04         129\n",
              "1949-05         121"
            ]
          },
          "execution_count": 3,
          "metadata": {},
          "output_type": "execute_result"
        }
      ],
      "source": [
        "df = pd.read_csv(\"https://raw.githubusercontent.com/PJalgotrader/Deep_forecasting-USU/main/data/airline_passengers.csv\", index_col=\"Month\")\n",
        "df.head()"
      ]
    },
    {
      "cell_type": "code",
      "execution_count": null,
      "metadata": {
        "colab": {
          "base_uri": "https://localhost:8080/"
        },
        "id": "7F6CJ9oa_Umh",
        "outputId": "5d7fa221-b31f-4387-9e1e-6f7eb1ce2452"
      },
      "outputs": [
        {
          "data": {
            "text/plain": [
              "Index(['1949-01', '1949-02', '1949-03', '1949-04', '1949-05', '1949-06',\n",
              "       '1949-07', '1949-08', '1949-09', '1949-10',\n",
              "       ...\n",
              "       '1960-03', '1960-04', '1960-05', '1960-06', '1960-07', '1960-08',\n",
              "       '1960-09', '1960-10', '1960-11', '1960-12'],\n",
              "      dtype='object', name='Month', length=144)"
            ]
          },
          "execution_count": 4,
          "metadata": {},
          "output_type": "execute_result"
        }
      ],
      "source": [
        "# if you are working with Pandas, your first job should be changing the type of the index to datetime and then to period! This is a compatibility issue with other packages. \n",
        "df.index"
      ]
    },
    {
      "cell_type": "code",
      "execution_count": null,
      "metadata": {
        "colab": {
          "base_uri": "https://localhost:8080/",
          "height": 449
        },
        "id": "o7q1E8Cmki9f",
        "outputId": "2ae4ae7b-871c-4c99-b1de-a3a315ae5662"
      },
      "outputs": [
        {
          "data": {
            "image/png": "[encoded data removed]",
            "text/plain": [
              "<Figure size 640x480 with 1 Axes>"
            ]
          },
          "metadata": {},
          "output_type": "display_data"
        }
      ],
      "source": [
        "df.plot()\n",
        "plt.show()"
      ]
    },
    {
      "cell_type": "markdown",
      "metadata": {
        "id": "ZAEgqW7Oki9f"
      },
      "source": [
        "## Splitting the data:\n",
        "\n",
        "**Computing the number of samples we'll use for each data split** "
      ]
    },
    {
      "cell_type": "code",
      "execution_count": null,
      "metadata": {
        "colab": {
          "base_uri": "https://localhost:8080/"
        },
        "id": "ibTMRaAJvagy",
        "outputId": "802d1967-5d09-455d-9630-314fba7c4a6a"
      },
      "outputs": [
        {
          "data": {
            "text/plain": [
              "144"
            ]
          },
          "execution_count": 6,
          "metadata": {},
          "output_type": "execute_result"
        }
      ],
      "source": [
        "len(df)"
      ]
    },
    {
      "cell_type": "code",
      "execution_count": null,
      "metadata": {
        "colab": {
          "base_uri": "https://localhost:8080/"
        },
        "id": "jV5P9Vn1mMFk",
        "outputId": "a25540b8-d6e9-49a5-b2df-b84dca403850"
      },
      "outputs": [
        {
          "name": "stdout",
          "output_type": "stream",
          "text": [
            "num_train_samples: 86\n",
            "num_val_samples: 28\n",
            "num_test_samples: 30\n"
          ]
        }
      ],
      "source": [
        "num_train_samples = int(0.6 * len(df))\n",
        "num_val_samples = int(0.20 * len(df))\n",
        "num_test_samples = len(df) - num_train_samples - num_val_samples\n",
        "print(\"num_train_samples:\", num_train_samples)\n",
        "print(\"num_val_samples:\", num_val_samples)\n",
        "print(\"num_test_samples:\", num_test_samples)"
      ]
    },
    {
      "cell_type": "markdown",
      "metadata": {
        "id": "-EEwDBRJmibC"
      },
      "source": [
        "# Preparing the data\n",
        "\n",
        "## Stationarity\n",
        "\n"
      ]
    },
    {
      "cell_type": "code",
      "execution_count": null,
      "metadata": {
        "colab": {
          "base_uri": "https://localhost:8080/",
          "height": 449
        },
        "id": "roKqUMZ8wZdK",
        "outputId": "3276974e-bfef-4d79-fb60-129d8c96b21f"
      },
      "outputs": [
        {
          "data": {
            "image/png": "[encoded data removed]",
            "text/plain": [
              "<Figure size 640x480 with 1 Axes>"
            ]
          },
          "metadata": {},
          "output_type": "display_data"
        }
      ],
      "source": [
        "df.plot()\n",
        "plt.show()"
      ]
    },
    {
      "cell_type": "code",
      "execution_count": null,
      "metadata": {
        "id": "HUPRoP5Bwe-C"
      },
      "outputs": [],
      "source": [
        "# the data is clearly not stationary. We will go ahead and use the log transformation and then first differencing\n",
        "df['LogPassengers'] = np.log(df['Passengers'])\n",
        "df['DiffLogPassengers']= df['LogPassengers'].diff(1)"
      ]
    },
    {
      "cell_type": "code",
      "execution_count": null,
      "metadata": {
        "colab": {
          "base_uri": "https://localhost:8080/",
          "height": 449
        },
        "id": "nmYxAS7lxGjq",
        "outputId": "4fa2197e-596a-4c10-fb05-d50801769ce4"
      },
      "outputs": [
        {
          "data": {
            "image/png": "[encoded data removed]",
            "text/plain": [
              "<Figure size 640x480 with 1 Axes>"
            ]
          },
          "metadata": {},
          "output_type": "display_data"
        }
      ],
      "source": [
        "df['DiffLogPassengers'].plot()\n",
        "plt.show()"
      ]
    },
    {
      "cell_type": "code",
      "execution_count": null,
      "metadata": {
        "id": "mGqpcbn1xkRJ"
      },
      "outputs": [],
      "source": [
        "df.dropna(inplace=True)"
      ]
    },
    {
      "cell_type": "code",
      "execution_count": null,
      "metadata": {
        "colab": {
          "base_uri": "https://localhost:8080/",
          "height": 237
        },
        "id": "cYJtkoPUxtVq",
        "outputId": "0138b44a-07f8-466a-ec9d-ec798a5fa2c4"
      },
      "outputs": [
        {
          "data": {
            "text/html": [
              "\n",
              "  <div id=\"df-49cb1477-775d-40d2-ab0e-febb307ca4c1\">\n",
              "    <div class=\"colab-df-container\">\n",
              "      <div>\n",
              "<style scoped>\n",
              "    .dataframe tbody tr th:only-of-type {\n",
              "        vertical-align: middle;\n",
              "    }\n",
              "\n",
              "    .dataframe tbody tr th {\n",
              "        vertical-align: top;\n",
              "    }\n",
              "\n",
              "    .dataframe thead th {\n",
              "        text-align: right;\n",
              "    }\n",
              "</style>\n",
              "<table border=\"1\" class=\"dataframe\">\n",
              "  <thead>\n",
              "    <tr style=\"text-align: right;\">\n",
              "      <th></th>\n",
              "      <th>Passengers</th>\n",
              "      <th>LogPassengers</th>\n",
              "      <th>DiffLogPassengers</th>\n",
              "    </tr>\n",
              "    <tr>\n",
              "      <th>Month</th>\n",
              "      <th></th>\n",
              "      <th></th>\n",
              "      <th></th>\n",
              "    </tr>\n",
              "  </thead>\n",
              "  <tbody>\n",
              "    <tr>\n",
              "      <th>1949-02</th>\n",
              "      <td>118</td>\n",
              "      <td>4.770685</td>\n",
              "      <td>0.052186</td>\n",
              "    </tr>\n",
              "    <tr>\n",
              "      <th>1949-03</th>\n",
              "      <td>132</td>\n",
              "      <td>4.882802</td>\n",
              "      <td>0.112117</td>\n",
              "    </tr>\n",
              "    <tr>\n",
              "      <th>1949-04</th>\n",
              "      <td>129</td>\n",
              "      <td>4.859812</td>\n",
              "      <td>-0.022990</td>\n",
              "    </tr>\n",
              "    <tr>\n",
              "      <th>1949-05</th>\n",
              "      <td>121</td>\n",
              "      <td>4.795791</td>\n",
              "      <td>-0.064022</td>\n",
              "    </tr>\n",
              "    <tr>\n",
              "      <th>1949-06</th>\n",
              "      <td>135</td>\n",
              "      <td>4.905275</td>\n",
              "      <td>0.109484</td>\n",
              "    </tr>\n",
              "  </tbody>\n",
              "</table>\n",
              "</div>\n",
              "      <button class=\"colab-df-convert\" onclick=\"convertToInteractive('df-49cb1477-775d-40d2-ab0e-febb307ca4c1')\"\n",
              "              title=\"Convert this dataframe to an interactive table.\"\n",
              "              style=\"display:none;\">\n",
              "        \n",
              "  <svg xmlns=\"http://www.w3.org/2000/svg\" height=\"24px\"viewBox=\"0 0 24 24\"\n",
              "       width=\"24px\">\n",
              "    <path d=\"M0 0h24v24H0V0z\" fill=\"none\"/>\n",
              "    <path d=\"M18.56 5.44l.94 2.06.94-2.06 2.06-.94-2.06-.94-.94-2.06-.94 2.06-2.06.94zm-11 1L8.5 8.5l.94-2.06 2.06-.94-2.06-.94L8.5 2.5l-.94 2.06-2.06.94zm10 10l.94 2.06.94-2.06 2.06-.94-2.06-.94-.94-2.06-.94 2.06-2.06.94z\"/><path d=\"M17.41 7.96l-1.37-1.37c-.4-.4-.92-.59-1.43-.59-.52 0-1.04.2-1.43.59L10.3 9.45l-7.72 7.72c-.78.78-.78 2.05 0 2.83L4 21.41c.39.39.9.59 1.41.59.51 0 1.02-.2 1.41-.59l7.78-7.78 2.81-2.81c.8-.78.8-2.07 0-2.86zM5.41 20L4 18.59l7.72-7.72 1.47 1.35L5.41 20z\"/>\n",
              "  </svg>\n",
              "      </button>\n",
              "      \n",
              "  <style>\n",
              "    .colab-df-container {\n",
              "      display:flex;\n",
              "      flex-wrap:wrap;\n",
              "      gap: 12px;\n",
              "    }\n",
              "\n",
              "    .colab-df-convert {\n",
              "      background-color: #E8F0FE;\n",
              "      border: none;\n",
              "      border-radius: 50%;\n",
              "      cursor: pointer;\n",
              "      display: none;\n",
              "      fill: #1967D2;\n",
              "      height: 32px;\n",
              "      padding: 0 0 0 0;\n",
              "      width: 32px;\n",
              "    }\n",
              "\n",
              "    .colab-df-convert:hover {\n",
              "      background-color: #E2EBFA;\n",
              "      box-shadow: 0px 1px 2px rgba(60, 64, 67, 0.3), 0px 1px 3px 1px rgba(60, 64, 67, 0.15);\n",
              "      fill: #174EA6;\n",
              "    }\n",
              "\n",
              "    [theme=dark] .colab-df-convert {\n",
              "      background-color: #3B4455;\n",
              "      fill: #D2E3FC;\n",
              "    }\n",
              "\n",
              "    [theme=dark] .colab-df-convert:hover {\n",
              "      background-color: #434B5C;\n",
              "      box-shadow: 0px 1px 3px 1px rgba(0, 0, 0, 0.15);\n",
              "      filter: drop-shadow(0px 1px 2px rgba(0, 0, 0, 0.3));\n",
              "      fill: #FFFFFF;\n",
              "    }\n",
              "  </style>\n",
              "\n",
              "      <script>\n",
              "        const buttonEl =\n",
              "          document.querySelector('#df-49cb1477-775d-40d2-ab0e-febb307ca4c1 button.colab-df-convert');\n",
              "        buttonEl.style.display =\n",
              "          google.colab.kernel.accessAllowed ? 'block' : 'none';\n",
              "\n",
              "        async function convertToInteractive(key) {\n",
              "          const element = document.querySelector('#df-49cb1477-775d-40d2-ab0e-febb307ca4c1');\n",
              "          const dataTable =\n",
              "            await google.colab.kernel.invokeFunction('convertToInteractive',\n",
              "                                                     [key], {});\n",
              "          if (!dataTable) return;\n",
              "\n",
              "          const docLinkHtml = 'Like what you see? Visit the ' +\n",
              "            '<a target=\"_blank\" href=https://colab.research.google.com/notebooks/data_table.ipynb>data table notebook</a>'\n",
              "            + ' to learn more about interactive tables.';\n",
              "          element.innerHTML = '';\n",
              "          dataTable['output_type'] = 'display_data';\n",
              "          await google.colab.output.renderOutput(dataTable, element);\n",
              "          const docLink = document.createElement('div');\n",
              "          docLink.innerHTML = docLinkHtml;\n",
              "          element.appendChild(docLink);\n",
              "        }\n",
              "      </script>\n",
              "    </div>\n",
              "  </div>\n",
              "  "
            ],
            "text/plain": [
              "         Passengers  LogPassengers  DiffLogPassengers\n",
              "Month                                                \n",
              "1949-02         118       4.770685           0.052186\n",
              "1949-03         132       4.882802           0.112117\n",
              "1949-04         129       4.859812          -0.022990\n",
              "1949-05         121       4.795791          -0.064022\n",
              "1949-06         135       4.905275           0.109484"
            ]
          },
          "execution_count": 12,
          "metadata": {},
          "output_type": "execute_result"
        }
      ],
      "source": [
        "df.head()"
      ]
    },
    {
      "cell_type": "markdown",
      "metadata": {
        "id": "Dl4Vg1zBwYoI"
      },
      "source": [
        "\n",
        "\n",
        "## Normalizing the data"
      ]
    },
    {
      "cell_type": "code",
      "execution_count": null,
      "metadata": {
        "id": "yCY_LrzpnMur"
      },
      "outputs": [],
      "source": [
        "# in this example, because we work with stationary DiffLogPassengers, we don't need to normalize the data. If you want, you cant try running the following:\n",
        "\n",
        "# mean = df[:num_train_samples].mean(axis=0)\n",
        "# df -= mean\n",
        "#std = df[:num_train_samples].std(axis=0)\n",
        "# df /= std"
      ]
    },
    {
      "cell_type": "code",
      "execution_count": null,
      "metadata": {
        "colab": {
          "base_uri": "https://localhost:8080/",
          "height": 449
        },
        "id": "nS9SpL89ki9f",
        "outputId": "2363d004-6fe9-4237-fb96-53f98c5a4943"
      },
      "outputs": [
        {
          "data": {
            "image/png": "[encoded data removed]",
            "text/plain": [
              "<Figure size 640x480 with 1 Axes>"
            ]
          },
          "metadata": {},
          "output_type": "display_data"
        }
      ],
      "source": [
        "df['DiffLogPassengers'].plot()\n",
        "plt.show()"
      ]
    },
    {
      "cell_type": "markdown",
      "metadata": {
        "id": "Px-vjC7tki9f"
      },
      "source": [
        "## Time series batch generator\n",
        "**Instantiating datasets for training, validation, and testing**\n",
        "https://www.tensorflow.org/api_docs/python/tf/keras/utils/timeseries_dataset_from_array"
      ]
    },
    {
      "cell_type": "code",
      "execution_count": null,
      "metadata": {
        "colab": {
          "base_uri": "https://localhost:8080/"
        },
        "id": "CF6nrGepki9f",
        "outputId": "627f756e-fc55-4480-d301-183ec62648d7"
      },
      "outputs": [
        {
          "name": "stdout",
          "output_type": "stream",
          "text": [
            "tf.Tensor([[0 1 2]], shape=(1, 3), dtype=int64) tf.Tensor([3], shape=(1,), dtype=int64)\n",
            "tf.Tensor([[1 2 3]], shape=(1, 3), dtype=int64) tf.Tensor([4], shape=(1,), dtype=int64)\n",
            "tf.Tensor([[2 3 4]], shape=(1, 3), dtype=int64) tf.Tensor([5], shape=(1,), dtype=int64)\n",
            "tf.Tensor([[3 4 5]], shape=(1, 3), dtype=int64) tf.Tensor([6], shape=(1,), dtype=int64)\n",
            "tf.Tensor([[4 5 6]], shape=(1, 3), dtype=int64) tf.Tensor([7], shape=(1,), dtype=int64)\n",
            "tf.Tensor([[5 6 7]], shape=(1, 3), dtype=int64) tf.Tensor([8], shape=(1,), dtype=int64)\n",
            "tf.Tensor([[6 7 8]], shape=(1, 3), dtype=int64) tf.Tensor([9], shape=(1,), dtype=int64)\n",
            "tf.Tensor([[7 8 9]], shape=(1, 3), dtype=int64) tf.Tensor([10], shape=(1,), dtype=int64)\n"
          ]
        }
      ],
      "source": [
        "import numpy as np\n",
        "from tensorflow import keras\n",
        "int_sequence = np.arange(13)\n",
        "batch_size = 1 # Number of timeseries samples in each batch (except maybe the last one). If None, the data will not be batched (the dataset will yield individual samples).\n",
        "sequence_length = 3 # Length of the output sequences (in number of timesteps).\n",
        "h = 1 # number of h steps ahead for forecasting\n",
        "delay = sequence_length + h -1  # number of delayed timesteps to start predictions\n",
        "\n",
        "dummy_dataset = keras.utils.timeseries_dataset_from_array(\n",
        "    data=int_sequence[:-delay],\n",
        "    targets=int_sequence[delay:],\n",
        "    sequence_length=sequence_length,\n",
        "    sequence_stride= 1, # Number of timesteps between two consecutive output sequences.\n",
        "    batch_size=batch_size, \n",
        "    shuffle = False, # Whether to shuffle output samples, or instead draw them in chronological order.\n",
        ")\n",
        "\n",
        "for inputs, targets in dummy_dataset:\n",
        "  print(inputs, targets)"
      ]
    },
    {
      "cell_type": "markdown",
      "metadata": {
        "id": "IbrV8oNR1qPh"
      },
      "source": [
        "Now, let's create our train, val and test datasets:"
      ]
    },
    {
      "cell_type": "code",
      "execution_count": null,
      "metadata": {
        "colab": {
          "base_uri": "https://localhost:8080/"
        },
        "id": "J5-lny1j5YVC",
        "outputId": "5e047c65-6ea0-47e6-a832-a565d2a0a075"
      },
      "outputs": [
        {
          "data": {
            "text/plain": [
              "143"
            ]
          },
          "execution_count": 16,
          "metadata": {},
          "output_type": "execute_result"
        }
      ],
      "source": [
        "len(df)"
      ]
    },
    {
      "cell_type": "code",
      "execution_count": null,
      "metadata": {
        "colab": {
          "base_uri": "https://localhost:8080/"
        },
        "id": "fCFkiekM57U5",
        "outputId": "521a0344-6d21-4d98-c663-d414641337da"
      },
      "outputs": [
        {
          "name": "stdout",
          "output_type": "stream",
          "text": [
            "num_train_samples: 86\n",
            "num_val_samples: 28\n",
            "num_test_samples: 30\n"
          ]
        }
      ],
      "source": [
        "# recall\n",
        "print(\"num_train_samples:\", num_train_samples)\n",
        "print(\"num_val_samples:\", num_val_samples)\n",
        "print(\"num_test_samples:\", num_test_samples)"
      ]
    },
    {
      "cell_type": "code",
      "execution_count": null,
      "metadata": {
        "id": "wcZHAEnCki9f"
      },
      "outputs": [],
      "source": [
        "series = df['DiffLogPassengers']\n",
        "sequence_length = 12 # using the past 12 months to predict next month. \n",
        "h = 1 \n",
        "delay = sequence_length  + h - 1\n",
        "batch_size = 32\n",
        "\n",
        "train_dataset = keras.utils.timeseries_dataset_from_array(\n",
        "    data = series[:-delay],\n",
        "    targets=series[delay:],\n",
        "    sequence_length=sequence_length,\n",
        "    shuffle=True,\n",
        "    batch_size=batch_size,\n",
        "    start_index=0,\n",
        "    end_index=num_train_samples)\n",
        "\n",
        "val_dataset = keras.utils.timeseries_dataset_from_array(\n",
        "    data = series[:-delay],\n",
        "    targets=series[delay:],\n",
        "    sequence_length=sequence_length,\n",
        "    shuffle=True,\n",
        "    batch_size=batch_size,\n",
        "    start_index=num_train_samples,\n",
        "    end_index=num_train_samples + num_val_samples)\n",
        "\n",
        "test_dataset = keras.utils.timeseries_dataset_from_array(\n",
        "    data = series[:-delay],\n",
        "    targets=series[delay:],\n",
        "    sequence_length=sequence_length,\n",
        "    shuffle=True,\n",
        "    batch_size=batch_size,\n",
        "    start_index=num_train_samples + num_val_samples)"
      ]
    },
    {
      "cell_type": "code",
      "execution_count": null,
      "metadata": {
        "colab": {
          "base_uri": "https://localhost:8080/"
        },
        "id": "NYRHo-bb6hFx",
        "outputId": "2aea7c3a-f6bd-4ba4-8361-a2bdd34cbc90"
      },
      "outputs": [
        {
          "name": "stdout",
          "output_type": "stream",
          "text": [
            "tf.Tensor(\n",
            "[[-0.14675009  0.08351063  0.0660211  -0.05129329  0.17154242 -0.02493895\n",
            "   0.0588405   0.11672427  0.1492963   0.01987419 -0.18842242 -0.12891387]\n",
            " [ 0.08351063  0.0660211  -0.05129329  0.17154242 -0.02493895  0.0588405\n",
            "   0.11672427  0.1492963   0.01987419 -0.18842242 -0.12891387 -0.11716897]\n",
            " [ 0.0281143  -0.22314355 -0.11809249 -0.14675009  0.08351063  0.0660211\n",
            "  -0.05129329  0.17154242 -0.02493895  0.0588405   0.11672427  0.1492963 ]\n",
            " [-0.22314355 -0.11809249 -0.14675009  0.08351063  0.0660211  -0.05129329\n",
            "   0.17154242 -0.02493895  0.0588405   0.11672427  0.1492963   0.01987419]\n",
            " [ 0.0660211  -0.05129329  0.17154242 -0.02493895  0.0588405   0.11672427\n",
            "   0.1492963   0.01987419 -0.18842242 -0.12891387 -0.11716897  0.11224286]\n",
            " [-0.11809249 -0.14675009  0.08351063  0.0660211  -0.05129329  0.17154242\n",
            "  -0.02493895  0.0588405   0.11672427  0.1492963   0.01987419 -0.18842242]], shape=(6, 12), dtype=float64) tf.Tensor([-0.11716897  0.11224286  0.01987419 -0.18842242  0.02919915 -0.12891387], shape=(6,), dtype=float64)\n"
          ]
        }
      ],
      "source": [
        "for inputs, targets in test_dataset:\n",
        "  print(inputs, targets)"
      ]
    },
    {
      "cell_type": "code",
      "execution_count": null,
      "metadata": {
        "colab": {
          "base_uri": "https://localhost:8080/"
        },
        "id": "oEPGgqt_6g8p",
        "outputId": "9285209e-5c98-49ef-8b0e-913fac607909"
      },
      "outputs": [
        {
          "data": {
            "text/plain": [
              "Month\n",
              "1958-08    0.028114\n",
              "1958-09   -0.223144\n",
              "1958-10   -0.118092\n",
              "1958-11   -0.146750\n",
              "1958-12    0.083511\n",
              "1959-01    0.066021\n",
              "1959-02   -0.051293\n",
              "1959-03    0.171542\n",
              "1959-04   -0.024939\n",
              "1959-05    0.058841\n",
              "1959-06    0.116724\n",
              "1959-07    0.149296\n",
              "1959-08    0.019874\n",
              "1959-09   -0.188422\n",
              "1959-10   -0.128914\n",
              "1959-11   -0.117169\n",
              "1959-12    0.112243\n",
              "1960-01    0.029199\n",
              "1960-02   -0.064379\n",
              "1960-03    0.069163\n",
              "1960-04    0.095527\n",
              "1960-05    0.023581\n",
              "1960-06    0.125288\n",
              "1960-07    0.150673\n",
              "1960-08   -0.026060\n",
              "1960-09   -0.176399\n",
              "1960-10   -0.097083\n",
              "1960-11   -0.167251\n",
              "1960-12    0.102279\n",
              "Name: DiffLogPassengers, dtype: float64"
            ]
          },
          "execution_count": 20,
          "metadata": {},
          "output_type": "execute_result"
        }
      ],
      "source": [
        "series.iloc[num_train_samples + num_val_samples:]"
      ]
    },
    {
      "cell_type": "code",
      "execution_count": null,
      "metadata": {
        "colab": {
          "base_uri": "https://localhost:8080/"
        },
        "id": "euCPHcBK6gjy",
        "outputId": "f733c8ac-0fed-4068-83f9-982a4ce02958"
      },
      "outputs": [
        {
          "name": "stdout",
          "output_type": "stream",
          "text": [
            "samples shape: (32, 12)\n",
            "targets shape: (32,)\n"
          ]
        }
      ],
      "source": [
        "for samples, targets in train_dataset.take(1):\n",
        "    print(\"samples shape:\", samples.shape)\n",
        "    print(\"targets shape:\", targets.shape)\n",
        "    "
      ]
    },
    {
      "cell_type": "markdown",
      "metadata": {
        "id": "RCxAhaEq8VKi"
      },
      "source": [
        "# A common-sense, non-machine-learning baseline"
      ]
    },
    {
      "cell_type": "code",
      "execution_count": null,
      "metadata": {
        "colab": {
          "base_uri": "https://localhost:8080/"
        },
        "id": "55-uRNUy97ah",
        "outputId": "ae5c89fb-3be4-4f90-9445-1d4defdf0ec3"
      },
      "outputs": [
        {
          "name": "stdout",
          "output_type": "stream",
          "text": [
            "(6, 12) tf.Tensor(\n",
            "[[ 0.08351063  0.0660211  -0.05129329  0.17154242 -0.02493895  0.0588405\n",
            "   0.11672427  0.1492963   0.01987419 -0.18842242 -0.12891387 -0.11716897]\n",
            " [ 0.0660211  -0.05129329  0.17154242 -0.02493895  0.0588405   0.11672427\n",
            "   0.1492963   0.01987419 -0.18842242 -0.12891387 -0.11716897  0.11224286]\n",
            " [-0.11809249 -0.14675009  0.08351063  0.0660211  -0.05129329  0.17154242\n",
            "  -0.02493895  0.0588405   0.11672427  0.1492963   0.01987419 -0.18842242]\n",
            " [ 0.0281143  -0.22314355 -0.11809249 -0.14675009  0.08351063  0.0660211\n",
            "  -0.05129329  0.17154242 -0.02493895  0.0588405   0.11672427  0.1492963 ]\n",
            " [-0.22314355 -0.11809249 -0.14675009  0.08351063  0.0660211  -0.05129329\n",
            "   0.17154242 -0.02493895  0.0588405   0.11672427  0.1492963   0.01987419]\n",
            " [-0.14675009  0.08351063  0.0660211  -0.05129329  0.17154242 -0.02493895\n",
            "   0.0588405   0.11672427  0.1492963   0.01987419 -0.18842242 -0.12891387]], shape=(6, 12), dtype=float64) tf.Tensor([ 0.11224286  0.02919915 -0.12891387  0.01987419 -0.18842242 -0.11716897], shape=(6,), dtype=float64)\n"
          ]
        }
      ],
      "source": [
        "for inputs, targets in test_dataset:\n",
        "  print(inputs.shape, inputs, targets)"
      ]
    },
    {
      "cell_type": "code",
      "execution_count": null,
      "metadata": {
        "id": "ioX0eMQd7zxc"
      },
      "outputs": [],
      "source": [
        "def evaluate_naive_method(dataset):\n",
        "    total_abs_err = 0.\n",
        "    samples_seen = 0\n",
        "    for samples, targets in dataset:\n",
        "        preds = samples[:, -1] # naive forecast is the last value observed in the sequence\n",
        "        total_abs_err += np.sum(np.abs(preds - targets))\n",
        "        samples_seen += samples.shape[0] # number of samples in the batch\n",
        "    return total_abs_err / samples_seen\n"
      ]
    },
    {
      "cell_type": "code",
      "execution_count": null,
      "metadata": {
        "colab": {
          "base_uri": "https://localhost:8080/"
        },
        "id": "W_RySkLo7-pY",
        "outputId": "da36a5f7-4a8f-4bfc-fb22-24640f73a917"
      },
      "outputs": [
        {
          "name": "stdout",
          "output_type": "stream",
          "text": [
            "Validation MAE: 0.11\n",
            "Test MAE: 0.12\n"
          ]
        }
      ],
      "source": [
        "print(f\"Validation MAE: {evaluate_naive_method(val_dataset):.2f}\")\n",
        "print(f\"Test MAE: {evaluate_naive_method(test_dataset):.2f}\")\n",
        "\n",
        "# the unit is DiffLogPassengers"
      ]
    },
    {
      "cell_type": "markdown",
      "metadata": {
        "id": "_vFCbRjZ_yIR"
      },
      "source": [
        "# Simple RNN"
      ]
    },
    {
      "cell_type": "code",
      "execution_count": null,
      "metadata": {
        "id": "v3Tg9Z5UAS3h"
      },
      "outputs": [],
      "source": [
        "from tensorflow.keras import layers"
      ]
    },
    {
      "cell_type": "code",
      "execution_count": null,
      "metadata": {
        "colab": {
          "base_uri": "https://localhost:8080/"
        },
        "id": "1FuHJI4qAXE5",
        "outputId": "c07a8deb-1657-44b4-ff0a-cc95b1ac9889"
      },
      "outputs": [
        {
          "data": {
            "text/plain": [
              "12"
            ]
          },
          "execution_count": 26,
          "metadata": {},
          "output_type": "execute_result"
        }
      ],
      "source": [
        "sequence_length"
      ]
    },
    {
      "cell_type": "code",
      "execution_count": null,
      "metadata": {
        "id": "g1FDwyQeAbWJ"
      },
      "outputs": [],
      "source": [
        "n_features = 1"
      ]
    },
    {
      "cell_type": "code",
      "execution_count": null,
      "metadata": {
        "colab": {
          "base_uri": "https://localhost:8080/"
        },
        "id": "ZYQI2KTe_yXp",
        "outputId": "596c51f3-bb76-4df1-a908-65973f15d7d4"
      },
      "outputs": [
        {
          "name": "stdout",
          "output_type": "stream",
          "text": [
            "Model: \"model\"\n",
            "_________________________________________________________________\n",
            " Layer (type)                Output Shape              Param #   \n",
            "=================================================================\n",
            " input_1 (InputLayer)        [(None, 12, 1)]           0         \n",
            "                                                                 \n",
            " simple_rnn (SimpleRNN)      (None, 16)                288       \n",
            "                                                                 \n",
            " dense (Dense)               (None, 1)                 17        \n",
            "                                                                 \n",
            "=================================================================\n",
            "Total params: 305\n",
            "Trainable params: 305\n",
            "Non-trainable params: 0\n",
            "_________________________________________________________________\n"
          ]
        }
      ],
      "source": [
        "inputs = keras.Input(shape=(sequence_length, n_features))\n",
        "x = layers.SimpleRNN(16)(inputs)\n",
        "outputs = layers.Dense(1)(x)\n",
        "model = keras.Model(inputs, outputs)\n",
        "\n",
        "model.summary() \n"
      ]
    },
    {
      "cell_type": "code",
      "execution_count": null,
      "metadata": {
        "colab": {
          "base_uri": "https://localhost:8080/"
        },
        "id": "ZV8moBB8B-oZ",
        "outputId": "a16751c8-955e-4e7e-fe54-1022c2e957d4"
      },
      "outputs": [
        {
          "data": {
            "text/plain": [
              "288"
            ]
          },
          "execution_count": 29,
          "metadata": {},
          "output_type": "execute_result"
        }
      ],
      "source": [
        "# parameters = (1 (feature) * 16 (cells) ) + (16 * 16) hidden state weight matrix + 16 bias terms\n",
        "1*16 + 16*16 + 16"
      ]
    },
    {
      "cell_type": "code",
      "execution_count": null,
      "metadata": {
        "colab": {
          "base_uri": "https://localhost:8080/"
        },
        "id": "bfsxdx4UB77J",
        "outputId": "7c22f53e-d962-4b4c-d3d1-ad8dec4a101c"
      },
      "outputs": [
        {
          "name": "stdout",
          "output_type": "stream",
          "text": [
            "Epoch 1/100\n",
            "3/3 [==============================] - 6s 137ms/step - loss: 0.0147 - mae: 0.0980 - val_loss: 0.0057 - val_mae: 0.0593\n",
            "Epoch 2/100\n",
            "3/3 [==============================] - 0s 32ms/step - loss: 0.0098 - mae: 0.0771 - val_loss: 0.0049 - val_mae: 0.0554\n",
            "Epoch 3/100\n",
            "3/3 [==============================] - 0s 37ms/step - loss: 0.0082 - mae: 0.0747 - val_loss: 0.0032 - val_mae: 0.0439\n",
            "Epoch 4/100\n",
            "3/3 [==============================] - 0s 32ms/step - loss: 0.0072 - mae: 0.0675 - val_loss: 0.0025 - val_mae: 0.0386\n",
            "Epoch 5/100\n",
            "3/3 [==============================] - 0s 27ms/step - loss: 0.0067 - mae: 0.0646 - val_loss: 0.0027 - val_mae: 0.0426\n",
            "Epoch 6/100\n",
            "3/3 [==============================] - 0s 36ms/step - loss: 0.0063 - mae: 0.0638 - val_loss: 0.0021 - val_mae: 0.0359\n",
            "Epoch 7/100\n",
            "3/3 [==============================] - 0s 28ms/step - loss: 0.0060 - mae: 0.0619 - val_loss: 0.0027 - val_mae: 0.0419\n",
            "Epoch 8/100\n",
            "3/3 [==============================] - 0s 27ms/step - loss: 0.0058 - mae: 0.0607 - val_loss: 0.0022 - val_mae: 0.0362\n",
            "Epoch 9/100\n",
            "3/3 [==============================] - 0s 36ms/step - loss: 0.0054 - mae: 0.0583 - val_loss: 0.0015 - val_mae: 0.0287\n",
            "Epoch 10/100\n",
            "3/3 [==============================] - 0s 36ms/step - loss: 0.0049 - mae: 0.0561 - val_loss: 0.0014 - val_mae: 0.0331\n",
            "Epoch 11/100\n",
            "3/3 [==============================] - 0s 28ms/step - loss: 0.0049 - mae: 0.0563 - val_loss: 0.0014 - val_mae: 0.0287\n",
            "Epoch 12/100\n",
            "3/3 [==============================] - 0s 48ms/step - loss: 0.0045 - mae: 0.0541 - val_loss: 0.0015 - val_mae: 0.0285\n",
            "Epoch 13/100\n",
            "3/3 [==============================] - 0s 55ms/step - loss: 0.0045 - mae: 0.0540 - val_loss: 0.0016 - val_mae: 0.0298\n",
            "Epoch 14/100\n",
            "3/3 [==============================] - 0s 63ms/step - loss: 0.0043 - mae: 0.0532 - val_loss: 0.0014 - val_mae: 0.0282\n",
            "Epoch 15/100\n",
            "3/3 [==============================] - 0s 55ms/step - loss: 0.0041 - mae: 0.0513 - val_loss: 0.0011 - val_mae: 0.0289\n",
            "Epoch 16/100\n",
            "3/3 [==============================] - 0s 42ms/step - loss: 0.0041 - mae: 0.0504 - val_loss: 0.0014 - val_mae: 0.0294\n",
            "Epoch 17/100\n",
            "3/3 [==============================] - 0s 48ms/step - loss: 0.0039 - mae: 0.0496 - val_loss: 0.0011 - val_mae: 0.0308\n",
            "Epoch 18/100\n",
            "3/3 [==============================] - 0s 64ms/step - loss: 0.0039 - mae: 0.0490 - val_loss: 9.0821e-04 - val_mae: 0.0255\n",
            "Epoch 19/100\n",
            "3/3 [==============================] - 0s 62ms/step - loss: 0.0037 - mae: 0.0480 - val_loss: 9.0194e-04 - val_mae: 0.0242\n",
            "Epoch 20/100\n",
            "3/3 [==============================] - 0s 56ms/step - loss: 0.0036 - mae: 0.0476 - val_loss: 0.0013 - val_mae: 0.0273\n",
            "Epoch 21/100\n",
            "3/3 [==============================] - 0s 42ms/step - loss: 0.0036 - mae: 0.0483 - val_loss: 0.0011 - val_mae: 0.0234\n",
            "Epoch 22/100\n",
            "3/3 [==============================] - 0s 53ms/step - loss: 0.0034 - mae: 0.0474 - val_loss: 9.3893e-04 - val_mae: 0.0202\n",
            "Epoch 23/100\n",
            "3/3 [==============================] - 0s 42ms/step - loss: 0.0033 - mae: 0.0466 - val_loss: 8.3363e-04 - val_mae: 0.0269\n",
            "Epoch 24/100\n",
            "3/3 [==============================] - 0s 28ms/step - loss: 0.0038 - mae: 0.0488 - val_loss: 8.3892e-04 - val_mae: 0.0250\n",
            "Epoch 25/100\n",
            "3/3 [==============================] - 0s 29ms/step - loss: 0.0032 - mae: 0.0445 - val_loss: 8.6187e-04 - val_mae: 0.0260\n",
            "Epoch 26/100\n",
            "3/3 [==============================] - 0s 33ms/step - loss: 0.0033 - mae: 0.0457 - val_loss: 6.7734e-04 - val_mae: 0.0212\n",
            "Epoch 27/100\n",
            "3/3 [==============================] - 0s 31ms/step - loss: 0.0030 - mae: 0.0438 - val_loss: 8.3069e-04 - val_mae: 0.0218\n",
            "Epoch 28/100\n",
            "3/3 [==============================] - 0s 28ms/step - loss: 0.0030 - mae: 0.0429 - val_loss: 0.0012 - val_mae: 0.0265\n",
            "Epoch 29/100\n",
            "3/3 [==============================] - 0s 28ms/step - loss: 0.0030 - mae: 0.0436 - val_loss: 7.5139e-04 - val_mae: 0.0248\n",
            "Epoch 30/100\n",
            "3/3 [==============================] - 0s 28ms/step - loss: 0.0031 - mae: 0.0443 - val_loss: 7.0254e-04 - val_mae: 0.0185\n",
            "Epoch 31/100\n",
            "3/3 [==============================] - 0s 34ms/step - loss: 0.0029 - mae: 0.0429 - val_loss: 4.4875e-04 - val_mae: 0.0151\n",
            "Epoch 32/100\n",
            "3/3 [==============================] - 0s 28ms/step - loss: 0.0028 - mae: 0.0418 - val_loss: 6.1549e-04 - val_mae: 0.0193\n",
            "Epoch 33/100\n",
            "3/3 [==============================] - 0s 28ms/step - loss: 0.0028 - mae: 0.0413 - val_loss: 5.7974e-04 - val_mae: 0.0177\n",
            "Epoch 34/100\n",
            "3/3 [==============================] - 0s 30ms/step - loss: 0.0028 - mae: 0.0411 - val_loss: 0.0012 - val_mae: 0.0282\n",
            "Epoch 35/100\n",
            "3/3 [==============================] - 0s 29ms/step - loss: 0.0028 - mae: 0.0417 - val_loss: 5.5105e-04 - val_mae: 0.0187\n",
            "Epoch 36/100\n",
            "3/3 [==============================] - 0s 32ms/step - loss: 0.0028 - mae: 0.0408 - val_loss: 0.0015 - val_mae: 0.0331\n",
            "Epoch 37/100\n",
            "3/3 [==============================] - 0s 33ms/step - loss: 0.0028 - mae: 0.0425 - val_loss: 6.9093e-04 - val_mae: 0.0219\n",
            "Epoch 38/100\n",
            "3/3 [==============================] - 0s 32ms/step - loss: 0.0026 - mae: 0.0407 - val_loss: 8.9282e-04 - val_mae: 0.0246\n",
            "Epoch 39/100\n",
            "3/3 [==============================] - 0s 35ms/step - loss: 0.0027 - mae: 0.0417 - val_loss: 3.8369e-04 - val_mae: 0.0160\n",
            "Epoch 40/100\n",
            "3/3 [==============================] - 0s 27ms/step - loss: 0.0027 - mae: 0.0413 - val_loss: 7.1946e-04 - val_mae: 0.0220\n",
            "Epoch 41/100\n",
            "3/3 [==============================] - 0s 28ms/step - loss: 0.0025 - mae: 0.0396 - val_loss: 5.2910e-04 - val_mae: 0.0201\n",
            "Epoch 42/100\n",
            "3/3 [==============================] - 0s 27ms/step - loss: 0.0027 - mae: 0.0411 - val_loss: 0.0011 - val_mae: 0.0286\n",
            "Epoch 43/100\n",
            "3/3 [==============================] - 0s 28ms/step - loss: 0.0027 - mae: 0.0403 - val_loss: 5.7347e-04 - val_mae: 0.0203\n",
            "Epoch 44/100\n",
            "3/3 [==============================] - 0s 27ms/step - loss: 0.0025 - mae: 0.0399 - val_loss: 5.9640e-04 - val_mae: 0.0213\n",
            "Epoch 45/100\n",
            "3/3 [==============================] - 0s 26ms/step - loss: 0.0025 - mae: 0.0395 - val_loss: 4.7957e-04 - val_mae: 0.0189\n",
            "Epoch 46/100\n",
            "3/3 [==============================] - 0s 33ms/step - loss: 0.0025 - mae: 0.0392 - val_loss: 3.4597e-04 - val_mae: 0.0156\n",
            "Epoch 47/100\n",
            "3/3 [==============================] - 0s 29ms/step - loss: 0.0025 - mae: 0.0385 - val_loss: 9.5920e-04 - val_mae: 0.0253\n",
            "Epoch 48/100\n",
            "3/3 [==============================] - 0s 27ms/step - loss: 0.0027 - mae: 0.0409 - val_loss: 7.2602e-04 - val_mae: 0.0222\n",
            "Epoch 49/100\n",
            "3/3 [==============================] - 0s 28ms/step - loss: 0.0025 - mae: 0.0397 - val_loss: 3.9323e-04 - val_mae: 0.0161\n",
            "Epoch 50/100\n",
            "3/3 [==============================] - 0s 28ms/step - loss: 0.0025 - mae: 0.0389 - val_loss: 3.8638e-04 - val_mae: 0.0155\n",
            "Epoch 51/100\n",
            "3/3 [==============================] - 0s 35ms/step - loss: 0.0025 - mae: 0.0392 - val_loss: 3.4354e-04 - val_mae: 0.0153\n",
            "Epoch 52/100\n",
            "3/3 [==============================] - 0s 27ms/step - loss: 0.0025 - mae: 0.0389 - val_loss: 4.3499e-04 - val_mae: 0.0180\n",
            "Epoch 53/100\n",
            "3/3 [==============================] - 0s 27ms/step - loss: 0.0025 - mae: 0.0390 - val_loss: 3.6675e-04 - val_mae: 0.0149\n",
            "Epoch 54/100\n",
            "3/3 [==============================] - 0s 29ms/step - loss: 0.0025 - mae: 0.0389 - val_loss: 4.6831e-04 - val_mae: 0.0184\n",
            "Epoch 55/100\n",
            "3/3 [==============================] - 0s 28ms/step - loss: 0.0025 - mae: 0.0391 - val_loss: 5.0144e-04 - val_mae: 0.0190\n",
            "Epoch 56/100\n",
            "3/3 [==============================] - 0s 30ms/step - loss: 0.0024 - mae: 0.0388 - val_loss: 4.3657e-04 - val_mae: 0.0174\n",
            "Epoch 57/100\n",
            "3/3 [==============================] - 0s 29ms/step - loss: 0.0024 - mae: 0.0380 - val_loss: 3.6383e-04 - val_mae: 0.0153\n",
            "Epoch 58/100\n",
            "3/3 [==============================] - 0s 30ms/step - loss: 0.0025 - mae: 0.0384 - val_loss: 7.6383e-04 - val_mae: 0.0242\n",
            "Epoch 59/100\n",
            "3/3 [==============================] - 0s 29ms/step - loss: 0.0024 - mae: 0.0383 - val_loss: 9.7128e-04 - val_mae: 0.0270\n",
            "Epoch 60/100\n",
            "3/3 [==============================] - 0s 29ms/step - loss: 0.0025 - mae: 0.0395 - val_loss: 5.9451e-04 - val_mae: 0.0216\n",
            "Epoch 61/100\n",
            "3/3 [==============================] - 0s 30ms/step - loss: 0.0024 - mae: 0.0380 - val_loss: 6.1819e-04 - val_mae: 0.0223\n",
            "Epoch 62/100\n",
            "3/3 [==============================] - 0s 29ms/step - loss: 0.0023 - mae: 0.0381 - val_loss: 6.4109e-04 - val_mae: 0.0219\n",
            "Epoch 63/100\n",
            "3/3 [==============================] - 0s 30ms/step - loss: 0.0023 - mae: 0.0385 - val_loss: 4.4085e-04 - val_mae: 0.0178\n",
            "Epoch 64/100\n",
            "3/3 [==============================] - 0s 28ms/step - loss: 0.0023 - mae: 0.0378 - val_loss: 5.8152e-04 - val_mae: 0.0215\n",
            "Epoch 65/100\n",
            "3/3 [==============================] - 0s 26ms/step - loss: 0.0025 - mae: 0.0384 - val_loss: 9.1121e-04 - val_mae: 0.0265\n",
            "Epoch 66/100\n",
            "3/3 [==============================] - 0s 28ms/step - loss: 0.0025 - mae: 0.0396 - val_loss: 6.1707e-04 - val_mae: 0.0210\n",
            "Epoch 67/100\n",
            "3/3 [==============================] - 0s 28ms/step - loss: 0.0024 - mae: 0.0385 - val_loss: 4.4107e-04 - val_mae: 0.0170\n",
            "Epoch 68/100\n",
            "3/3 [==============================] - 0s 31ms/step - loss: 0.0024 - mae: 0.0388 - val_loss: 5.1509e-04 - val_mae: 0.0198\n",
            "Epoch 69/100\n",
            "3/3 [==============================] - 0s 28ms/step - loss: 0.0023 - mae: 0.0378 - val_loss: 4.8271e-04 - val_mae: 0.0185\n",
            "Epoch 70/100\n",
            "3/3 [==============================] - 0s 30ms/step - loss: 0.0023 - mae: 0.0380 - val_loss: 6.0548e-04 - val_mae: 0.0211\n",
            "Epoch 71/100\n",
            "3/3 [==============================] - 0s 36ms/step - loss: 0.0024 - mae: 0.0387 - val_loss: 6.5307e-04 - val_mae: 0.0217\n",
            "Epoch 72/100\n",
            "3/3 [==============================] - 0s 28ms/step - loss: 0.0023 - mae: 0.0377 - val_loss: 7.8275e-04 - val_mae: 0.0224\n",
            "Epoch 73/100\n",
            "3/3 [==============================] - 0s 31ms/step - loss: 0.0024 - mae: 0.0392 - val_loss: 0.0012 - val_mae: 0.0298\n",
            "Epoch 74/100\n",
            "3/3 [==============================] - 0s 29ms/step - loss: 0.0024 - mae: 0.0401 - val_loss: 5.1834e-04 - val_mae: 0.0190\n",
            "Epoch 75/100\n",
            "3/3 [==============================] - 0s 32ms/step - loss: 0.0024 - mae: 0.0379 - val_loss: 3.9965e-04 - val_mae: 0.0162\n",
            "Epoch 76/100\n",
            "3/3 [==============================] - 0s 28ms/step - loss: 0.0023 - mae: 0.0380 - val_loss: 4.4122e-04 - val_mae: 0.0165\n",
            "Epoch 77/100\n",
            "3/3 [==============================] - 0s 30ms/step - loss: 0.0023 - mae: 0.0380 - val_loss: 4.8957e-04 - val_mae: 0.0192\n",
            "Epoch 78/100\n",
            "3/3 [==============================] - 0s 27ms/step - loss: 0.0024 - mae: 0.0391 - val_loss: 3.6958e-04 - val_mae: 0.0161\n",
            "Epoch 79/100\n",
            "3/3 [==============================] - 0s 31ms/step - loss: 0.0024 - mae: 0.0387 - val_loss: 5.1197e-04 - val_mae: 0.0204\n",
            "Epoch 80/100\n",
            "3/3 [==============================] - 0s 27ms/step - loss: 0.0023 - mae: 0.0379 - val_loss: 5.4217e-04 - val_mae: 0.0206\n",
            "Epoch 81/100\n",
            "3/3 [==============================] - 0s 28ms/step - loss: 0.0023 - mae: 0.0377 - val_loss: 0.0013 - val_mae: 0.0317\n",
            "Epoch 82/100\n",
            "3/3 [==============================] - 0s 35ms/step - loss: 0.0025 - mae: 0.0403 - val_loss: 5.4851e-04 - val_mae: 0.0203\n",
            "Epoch 83/100\n",
            "3/3 [==============================] - 0s 29ms/step - loss: 0.0023 - mae: 0.0377 - val_loss: 5.9966e-04 - val_mae: 0.0219\n",
            "Epoch 84/100\n",
            "3/3 [==============================] - 0s 30ms/step - loss: 0.0023 - mae: 0.0379 - val_loss: 6.2067e-04 - val_mae: 0.0221\n",
            "Epoch 85/100\n",
            "3/3 [==============================] - 0s 28ms/step - loss: 0.0024 - mae: 0.0383 - val_loss: 6.5037e-04 - val_mae: 0.0212\n",
            "Epoch 86/100\n",
            "3/3 [==============================] - 0s 27ms/step - loss: 0.0024 - mae: 0.0389 - val_loss: 7.4043e-04 - val_mae: 0.0247\n",
            "Epoch 87/100\n",
            "3/3 [==============================] - 0s 27ms/step - loss: 0.0023 - mae: 0.0381 - val_loss: 3.4791e-04 - val_mae: 0.0155\n",
            "Epoch 88/100\n",
            "3/3 [==============================] - 0s 34ms/step - loss: 0.0023 - mae: 0.0379 - val_loss: 8.7666e-04 - val_mae: 0.0253\n",
            "Epoch 89/100\n",
            "3/3 [==============================] - 0s 33ms/step - loss: 0.0023 - mae: 0.0389 - val_loss: 5.2173e-04 - val_mae: 0.0189\n",
            "Epoch 90/100\n",
            "3/3 [==============================] - 0s 27ms/step - loss: 0.0024 - mae: 0.0396 - val_loss: 6.9123e-04 - val_mae: 0.0221\n",
            "Epoch 91/100\n",
            "3/3 [==============================] - 0s 31ms/step - loss: 0.0023 - mae: 0.0375 - val_loss: 4.8395e-04 - val_mae: 0.0184\n",
            "Epoch 92/100\n",
            "3/3 [==============================] - 0s 28ms/step - loss: 0.0025 - mae: 0.0388 - val_loss: 5.4157e-04 - val_mae: 0.0201\n",
            "Epoch 93/100\n",
            "3/3 [==============================] - 0s 28ms/step - loss: 0.0023 - mae: 0.0388 - val_loss: 4.9448e-04 - val_mae: 0.0174\n",
            "Epoch 94/100\n",
            "3/3 [==============================] - 0s 26ms/step - loss: 0.0024 - mae: 0.0386 - val_loss: 3.6690e-04 - val_mae: 0.0159\n",
            "Epoch 95/100\n",
            "3/3 [==============================] - 0s 30ms/step - loss: 0.0023 - mae: 0.0377 - val_loss: 6.3915e-04 - val_mae: 0.0228\n",
            "Epoch 96/100\n",
            "3/3 [==============================] - 0s 28ms/step - loss: 0.0023 - mae: 0.0382 - val_loss: 9.0842e-04 - val_mae: 0.0268\n",
            "Epoch 97/100\n",
            "3/3 [==============================] - 0s 27ms/step - loss: 0.0024 - mae: 0.0381 - val_loss: 4.4946e-04 - val_mae: 0.0188\n",
            "Epoch 98/100\n",
            "3/3 [==============================] - 0s 31ms/step - loss: 0.0023 - mae: 0.0384 - val_loss: 3.7901e-04 - val_mae: 0.0166\n",
            "Epoch 99/100\n",
            "3/3 [==============================] - 0s 29ms/step - loss: 0.0023 - mae: 0.0379 - val_loss: 7.8599e-04 - val_mae: 0.0259\n",
            "Epoch 100/100\n",
            "3/3 [==============================] - 0s 30ms/step - loss: 0.0024 - mae: 0.0388 - val_loss: 5.5202e-04 - val_mae: 0.0209\n"
          ]
        }
      ],
      "source": [
        "callbacks = [\n",
        "    keras.callbacks.ModelCheckpoint(\"RNN.keras\",\n",
        "                                    save_best_only=True)\n",
        "]\n",
        "model.compile(optimizer=\"rmsprop\", loss=\"mse\", metrics=[\"mae\"])\n",
        "history = model.fit(train_dataset,\n",
        "                    epochs=100,\n",
        "                    validation_data=val_dataset,\n",
        "                    callbacks=callbacks)\n"
      ]
    },
    {
      "cell_type": "code",
      "execution_count": null,
      "metadata": {
        "colab": {
          "base_uri": "https://localhost:8080/"
        },
        "id": "zZ6jkHwlCbLB",
        "outputId": "f20265ae-f9a1-427b-99b1-a1036f271f3d"
      },
      "outputs": [
        {
          "name": "stdout",
          "output_type": "stream",
          "text": [
            "1/1 [==============================] - 0s 184ms/step - loss: 6.8486e-04 - mae: 0.0212\n",
            "Test MAE: 0.021\n"
          ]
        }
      ],
      "source": [
        "model = keras.models.load_model(\"RNN.keras\")\n",
        "print(f\"Test MAE: {model.evaluate(test_dataset)[1]:.3f}\")"
      ]
    },
    {
      "cell_type": "code",
      "execution_count": null,
      "metadata": {
        "colab": {
          "base_uri": "https://localhost:8080/",
          "height": 206
        },
        "id": "Efq5_edOgVvi",
        "outputId": "1b855f48-cbb8-4bce-e212-7deb93053e67"
      },
      "outputs": [
        {
          "data": {
            "text/html": [
              "\n",
              "  <div id=\"df-373b0a82-bece-4585-aa65-46d9db8b01bc\">\n",
              "    <div class=\"colab-df-container\">\n",
              "      <div>\n",
              "<style scoped>\n",
              "    .dataframe tbody tr th:only-of-type {\n",
              "        vertical-align: middle;\n",
              "    }\n",
              "\n",
              "    .dataframe tbody tr th {\n",
              "        vertical-align: top;\n",
              "    }\n",
              "\n",
              "    .dataframe thead th {\n",
              "        text-align: right;\n",
              "    }\n",
              "</style>\n",
              "<table border=\"1\" class=\"dataframe\">\n",
              "  <thead>\n",
              "    <tr style=\"text-align: right;\">\n",
              "      <th></th>\n",
              "      <th>loss</th>\n",
              "      <th>mae</th>\n",
              "      <th>val_loss</th>\n",
              "      <th>val_mae</th>\n",
              "    </tr>\n",
              "  </thead>\n",
              "  <tbody>\n",
              "    <tr>\n",
              "      <th>95</th>\n",
              "      <td>0.002307</td>\n",
              "      <td>0.038167</td>\n",
              "      <td>0.000908</td>\n",
              "      <td>0.026754</td>\n",
              "    </tr>\n",
              "    <tr>\n",
              "      <th>96</th>\n",
              "      <td>0.002355</td>\n",
              "      <td>0.038145</td>\n",
              "      <td>0.000449</td>\n",
              "      <td>0.018778</td>\n",
              "    </tr>\n",
              "    <tr>\n",
              "      <th>97</th>\n",
              "      <td>0.002331</td>\n",
              "      <td>0.038379</td>\n",
              "      <td>0.000379</td>\n",
              "      <td>0.016587</td>\n",
              "    </tr>\n",
              "    <tr>\n",
              "      <th>98</th>\n",
              "      <td>0.002302</td>\n",
              "      <td>0.037889</td>\n",
              "      <td>0.000786</td>\n",
              "      <td>0.025891</td>\n",
              "    </tr>\n",
              "    <tr>\n",
              "      <th>99</th>\n",
              "      <td>0.002412</td>\n",
              "      <td>0.038764</td>\n",
              "      <td>0.000552</td>\n",
              "      <td>0.020924</td>\n",
              "    </tr>\n",
              "  </tbody>\n",
              "</table>\n",
              "</div>\n",
              "      <button class=\"colab-df-convert\" onclick=\"convertToInteractive('df-373b0a82-bece-4585-aa65-46d9db8b01bc')\"\n",
              "              title=\"Convert this dataframe to an interactive table.\"\n",
              "              style=\"display:none;\">\n",
              "        \n",
              "  <svg xmlns=\"http://www.w3.org/2000/svg\" height=\"24px\"viewBox=\"0 0 24 24\"\n",
              "       width=\"24px\">\n",
              "    <path d=\"M0 0h24v24H0V0z\" fill=\"none\"/>\n",
              "    <path d=\"M18.56 5.44l.94 2.06.94-2.06 2.06-.94-2.06-.94-.94-2.06-.94 2.06-2.06.94zm-11 1L8.5 8.5l.94-2.06 2.06-.94-2.06-.94L8.5 2.5l-.94 2.06-2.06.94zm10 10l.94 2.06.94-2.06 2.06-.94-2.06-.94-.94-2.06-.94 2.06-2.06.94z\"/><path d=\"M17.41 7.96l-1.37-1.37c-.4-.4-.92-.59-1.43-.59-.52 0-1.04.2-1.43.59L10.3 9.45l-7.72 7.72c-.78.78-.78 2.05 0 2.83L4 21.41c.39.39.9.59 1.41.59.51 0 1.02-.2 1.41-.59l7.78-7.78 2.81-2.81c.8-.78.8-2.07 0-2.86zM5.41 20L4 18.59l7.72-7.72 1.47 1.35L5.41 20z\"/>\n",
              "  </svg>\n",
              "      </button>\n",
              "      \n",
              "  <style>\n",
              "    .colab-df-container {\n",
              "      display:flex;\n",
              "      flex-wrap:wrap;\n",
              "      gap: 12px;\n",
              "    }\n",
              "\n",
              "    .colab-df-convert {\n",
              "      background-color: #E8F0FE;\n",
              "      border: none;\n",
              "      border-radius: 50%;\n",
              "      cursor: pointer;\n",
              "      display: none;\n",
              "      fill: #1967D2;\n",
              "      height: 32px;\n",
              "      padding: 0 0 0 0;\n",
              "      width: 32px;\n",
              "    }\n",
              "\n",
              "    .colab-df-convert:hover {\n",
              "      background-color: #E2EBFA;\n",
              "      box-shadow: 0px 1px 2px rgba(60, 64, 67, 0.3), 0px 1px 3px 1px rgba(60, 64, 67, 0.15);\n",
              "      fill: #174EA6;\n",
              "    }\n",
              "\n",
              "    [theme=dark] .colab-df-convert {\n",
              "      background-color: #3B4455;\n",
              "      fill: #D2E3FC;\n",
              "    }\n",
              "\n",
              "    [theme=dark] .colab-df-convert:hover {\n",
              "      background-color: #434B5C;\n",
              "      box-shadow: 0px 1px 3px 1px rgba(0, 0, 0, 0.15);\n",
              "      filter: drop-shadow(0px 1px 2px rgba(0, 0, 0, 0.3));\n",
              "      fill: #FFFFFF;\n",
              "    }\n",
              "  </style>\n",
              "\n",
              "      <script>\n",
              "        const buttonEl =\n",
              "          document.querySelector('#df-373b0a82-bece-4585-aa65-46d9db8b01bc button.colab-df-convert');\n",
              "        buttonEl.style.display =\n",
              "          google.colab.kernel.accessAllowed ? 'block' : 'none';\n",
              "\n",
              "        async function convertToInteractive(key) {\n",
              "          const element = document.querySelector('#df-373b0a82-bece-4585-aa65-46d9db8b01bc');\n",
              "          const dataTable =\n",
              "            await google.colab.kernel.invokeFunction('convertToInteractive',\n",
              "                                                     [key], {});\n",
              "          if (!dataTable) return;\n",
              "\n",
              "          const docLinkHtml = 'Like what you see? Visit the ' +\n",
              "            '<a target=\"_blank\" href=https://colab.research.google.com/notebooks/data_table.ipynb>data table notebook</a>'\n",
              "            + ' to learn more about interactive tables.';\n",
              "          element.innerHTML = '';\n",
              "          dataTable['output_type'] = 'display_data';\n",
              "          await google.colab.output.renderOutput(dataTable, element);\n",
              "          const docLink = document.createElement('div');\n",
              "          docLink.innerHTML = docLinkHtml;\n",
              "          element.appendChild(docLink);\n",
              "        }\n",
              "      </script>\n",
              "    </div>\n",
              "  </div>\n",
              "  "
            ],
            "text/plain": [
              "        loss       mae  val_loss   val_mae\n",
              "95  0.002307  0.038167  0.000908  0.026754\n",
              "96  0.002355  0.038145  0.000449  0.018778\n",
              "97  0.002331  0.038379  0.000379  0.016587\n",
              "98  0.002302  0.037889  0.000786  0.025891\n",
              "99  0.002412  0.038764  0.000552  0.020924"
            ]
          },
          "execution_count": 33,
          "metadata": {},
          "output_type": "execute_result"
        }
      ],
      "source": [
        "loss_df = pd.DataFrame(history.history)\n",
        "loss_df.tail()\n"
      ]
    },
    {
      "cell_type": "code",
      "execution_count": null,
      "metadata": {
        "colab": {
          "base_uri": "https://localhost:8080/",
          "height": 452
        },
        "id": "qZaqMrFegVvj",
        "outputId": "d49d5b73-a2d5-44d7-87a6-ca64d462c334"
      },
      "outputs": [
        {
          "data": {
            "image/png": "[encoded data removed]",
            "text/plain": [
              "<Figure size 640x480 with 1 Axes>"
            ]
          },
          "metadata": {},
          "output_type": "display_data"
        }
      ],
      "source": [
        "import matplotlib.pyplot as plt\n",
        "\n",
        "loss_df[['loss', 'val_loss']].plot(legend=True, title='Training and Validation Loss')\n",
        "plt.show()"
      ]
    },
    {
      "cell_type": "markdown",
      "metadata": {
        "id": "4HbrwL8K70N5"
      },
      "source": [
        "#  LSTM "
      ]
    },
    {
      "cell_type": "code",
      "execution_count": null,
      "metadata": {
        "colab": {
          "base_uri": "https://localhost:8080/"
        },
        "id": "TMCnP6IuC3_q",
        "outputId": "c0a01bf7-8802-465d-b2b6-327bdf08d9fc"
      },
      "outputs": [
        {
          "name": "stdout",
          "output_type": "stream",
          "text": [
            "Model: \"model_1\"\n",
            "_________________________________________________________________\n",
            " Layer (type)                Output Shape              Param #   \n",
            "=================================================================\n",
            " input_2 (InputLayer)        [(None, 12, 1)]           0         \n",
            "                                                                 \n",
            " lstm (LSTM)                 (None, 16)                1152      \n",
            "                                                                 \n",
            " dense_1 (Dense)             (None, 1)                 17        \n",
            "                                                                 \n",
            "=================================================================\n",
            "Total params: 1,169\n",
            "Trainable params: 1,169\n",
            "Non-trainable params: 0\n",
            "_________________________________________________________________\n"
          ]
        }
      ],
      "source": [
        "inputs = keras.Input(shape=(sequence_length, n_features))\n",
        "x = layers.LSTM(16)(inputs)\n",
        "outputs = layers.Dense(1)(x)\n",
        "model = keras.Model(inputs, outputs)\n",
        "\n",
        "model.summary() \n"
      ]
    },
    {
      "cell_type": "code",
      "execution_count": null,
      "metadata": {
        "colab": {
          "base_uri": "https://localhost:8080/"
        },
        "id": "k1hzk9YcC3_w",
        "outputId": "585f733f-4f69-42e1-b5e1-e52d90d11987"
      },
      "outputs": [
        {
          "data": {
            "text/plain": [
              "1152"
            ]
          },
          "execution_count": 36,
          "metadata": {},
          "output_type": "execute_result"
        }
      ],
      "source": [
        "# parameters = [(1 (feature) * 16 (cells) ) + (16 * 16) hidden state weight matrix + 16 bias terms ] * 4 gates\n",
        "(1*16 + 16*16 + 16) *4"
      ]
    },
    {
      "cell_type": "code",
      "execution_count": null,
      "metadata": {
        "colab": {
          "base_uri": "https://localhost:8080/"
        },
        "id": "76PJUFtJC3_w",
        "outputId": "fb738a5b-39bf-4b5f-f2f5-bcc259a6401d"
      },
      "outputs": [
        {
          "name": "stdout",
          "output_type": "stream",
          "text": [
            "Epoch 1/200\n",
            "3/3 [==============================] - 3s 219ms/step - loss: 0.0105 - mae: 0.0856 - val_loss: 0.0103 - val_mae: 0.0829\n",
            "Epoch 2/200\n",
            "3/3 [==============================] - 0s 27ms/step - loss: 0.0105 - mae: 0.0853 - val_loss: 0.0102 - val_mae: 0.0826\n",
            "Epoch 3/200\n",
            "3/3 [==============================] - 0s 23ms/step - loss: 0.0106 - mae: 0.0857 - val_loss: 0.0103 - val_mae: 0.0830\n",
            "Epoch 4/200\n",
            "3/3 [==============================] - 0s 29ms/step - loss: 0.0106 - mae: 0.0861 - val_loss: 0.0102 - val_mae: 0.0825\n",
            "Epoch 5/200\n",
            "3/3 [==============================] - 0s 28ms/step - loss: 0.0104 - mae: 0.0854 - val_loss: 0.0102 - val_mae: 0.0825\n",
            "Epoch 6/200\n",
            "3/3 [==============================] - 0s 23ms/step - loss: 0.0104 - mae: 0.0851 - val_loss: 0.0103 - val_mae: 0.0839\n",
            "Epoch 7/200\n",
            "3/3 [==============================] - 0s 27ms/step - loss: 0.0103 - mae: 0.0847 - val_loss: 0.0101 - val_mae: 0.0823\n",
            "Epoch 8/200\n",
            "3/3 [==============================] - 0s 21ms/step - loss: 0.0103 - mae: 0.0849 - val_loss: 0.0102 - val_mae: 0.0835\n",
            "Epoch 9/200\n",
            "3/3 [==============================] - 0s 23ms/step - loss: 0.0103 - mae: 0.0846 - val_loss: 0.0103 - val_mae: 0.0846\n",
            "Epoch 10/200\n",
            "3/3 [==============================] - 0s 29ms/step - loss: 0.0103 - mae: 0.0847 - val_loss: 0.0101 - val_mae: 0.0836\n",
            "Epoch 11/200\n",
            "3/3 [==============================] - 0s 30ms/step - loss: 0.0102 - mae: 0.0842 - val_loss: 0.0100 - val_mae: 0.0822\n",
            "Epoch 12/200\n",
            "3/3 [==============================] - 0s 31ms/step - loss: 0.0102 - mae: 0.0845 - val_loss: 0.0100 - val_mae: 0.0829\n",
            "Epoch 13/200\n",
            "3/3 [==============================] - 0s 28ms/step - loss: 0.0102 - mae: 0.0842 - val_loss: 0.0100 - val_mae: 0.0820\n",
            "Epoch 14/200\n",
            "3/3 [==============================] - 0s 29ms/step - loss: 0.0101 - mae: 0.0841 - val_loss: 0.0100 - val_mae: 0.0826\n",
            "Epoch 15/200\n",
            "3/3 [==============================] - 0s 32ms/step - loss: 0.0101 - mae: 0.0838 - val_loss: 0.0100 - val_mae: 0.0833\n",
            "Epoch 16/200\n",
            "3/3 [==============================] - 0s 28ms/step - loss: 0.0101 - mae: 0.0840 - val_loss: 0.0099 - val_mae: 0.0819\n",
            "Epoch 17/200\n",
            "3/3 [==============================] - 0s 32ms/step - loss: 0.0104 - mae: 0.0867 - val_loss: 0.0099 - val_mae: 0.0821\n",
            "Epoch 18/200\n",
            "3/3 [==============================] - 0s 29ms/step - loss: 0.0100 - mae: 0.0836 - val_loss: 0.0099 - val_mae: 0.0824\n",
            "Epoch 19/200\n",
            "3/3 [==============================] - 0s 23ms/step - loss: 0.0099 - mae: 0.0834 - val_loss: 0.0099 - val_mae: 0.0834\n",
            "Epoch 20/200\n",
            "3/3 [==============================] - 0s 85ms/step - loss: 0.0100 - mae: 0.0837 - val_loss: 0.0099 - val_mae: 0.0842\n",
            "Epoch 21/200\n",
            "3/3 [==============================] - 0s 25ms/step - loss: 0.0099 - mae: 0.0831 - val_loss: 0.0100 - val_mae: 0.0844\n",
            "Epoch 22/200\n",
            "3/3 [==============================] - 0s 29ms/step - loss: 0.0098 - mae: 0.0830 - val_loss: 0.0097 - val_mae: 0.0821\n",
            "Epoch 23/200\n",
            "3/3 [==============================] - 0s 25ms/step - loss: 0.0098 - mae: 0.0830 - val_loss: 0.0097 - val_mae: 0.0828\n",
            "Epoch 24/200\n",
            "3/3 [==============================] - 0s 33ms/step - loss: 0.0097 - mae: 0.0824 - val_loss: 0.0097 - val_mae: 0.0825\n",
            "Epoch 25/200\n",
            "3/3 [==============================] - 0s 23ms/step - loss: 0.0097 - mae: 0.0826 - val_loss: 0.0098 - val_mae: 0.0840\n",
            "Epoch 26/200\n",
            "3/3 [==============================] - 0s 121ms/step - loss: 0.0097 - mae: 0.0826 - val_loss: 0.0096 - val_mae: 0.0822\n",
            "Epoch 27/200\n",
            "3/3 [==============================] - 0s 56ms/step - loss: 0.0096 - mae: 0.0822 - val_loss: 0.0096 - val_mae: 0.0818\n",
            "Epoch 28/200\n",
            "3/3 [==============================] - 0s 22ms/step - loss: 0.0096 - mae: 0.0824 - val_loss: 0.0097 - val_mae: 0.0841\n",
            "Epoch 29/200\n",
            "3/3 [==============================] - 0s 29ms/step - loss: 0.0096 - mae: 0.0820 - val_loss: 0.0096 - val_mae: 0.0822\n",
            "Epoch 30/200\n",
            "3/3 [==============================] - 0s 32ms/step - loss: 0.0095 - mae: 0.0819 - val_loss: 0.0095 - val_mae: 0.0821\n",
            "Epoch 31/200\n",
            "3/3 [==============================] - 0s 32ms/step - loss: 0.0095 - mae: 0.0817 - val_loss: 0.0095 - val_mae: 0.0827\n",
            "Epoch 32/200\n",
            "3/3 [==============================] - 0s 30ms/step - loss: 0.0095 - mae: 0.0817 - val_loss: 0.0095 - val_mae: 0.0827\n",
            "Epoch 33/200\n",
            "3/3 [==============================] - 0s 127ms/step - loss: 0.0095 - mae: 0.0817 - val_loss: 0.0096 - val_mae: 0.0840\n",
            "Epoch 34/200\n",
            "3/3 [==============================] - 0s 60ms/step - loss: 0.0094 - mae: 0.0811 - val_loss: 0.0094 - val_mae: 0.0826\n",
            "Epoch 35/200\n",
            "3/3 [==============================] - 0s 43ms/step - loss: 0.0095 - mae: 0.0814 - val_loss: 0.0094 - val_mae: 0.0819\n",
            "Epoch 36/200\n",
            "3/3 [==============================] - 0s 43ms/step - loss: 0.0093 - mae: 0.0810 - val_loss: 0.0094 - val_mae: 0.0829\n",
            "Epoch 37/200\n",
            "3/3 [==============================] - 0s 51ms/step - loss: 0.0092 - mae: 0.0809 - val_loss: 0.0094 - val_mae: 0.0829\n",
            "Epoch 38/200\n",
            "3/3 [==============================] - 0s 53ms/step - loss: 0.0093 - mae: 0.0809 - val_loss: 0.0093 - val_mae: 0.0823\n",
            "Epoch 39/200\n",
            "3/3 [==============================] - 0s 45ms/step - loss: 0.0091 - mae: 0.0804 - val_loss: 0.0092 - val_mae: 0.0820\n",
            "Epoch 40/200\n",
            "3/3 [==============================] - 0s 24ms/step - loss: 0.0093 - mae: 0.0805 - val_loss: 0.0094 - val_mae: 0.0828\n",
            "Epoch 41/200\n",
            "3/3 [==============================] - 0s 30ms/step - loss: 0.0093 - mae: 0.0819 - val_loss: 0.0092 - val_mae: 0.0824\n",
            "Epoch 42/200\n",
            "3/3 [==============================] - 0s 29ms/step - loss: 0.0090 - mae: 0.0805 - val_loss: 0.0091 - val_mae: 0.0821\n",
            "Epoch 43/200\n",
            "3/3 [==============================] - 0s 30ms/step - loss: 0.0090 - mae: 0.0800 - val_loss: 0.0091 - val_mae: 0.0823\n",
            "Epoch 44/200\n",
            "3/3 [==============================] - 0s 28ms/step - loss: 0.0091 - mae: 0.0801 - val_loss: 0.0091 - val_mae: 0.0823\n",
            "Epoch 45/200\n",
            "3/3 [==============================] - 0s 32ms/step - loss: 0.0089 - mae: 0.0801 - val_loss: 0.0090 - val_mae: 0.0816\n",
            "Epoch 46/200\n",
            "3/3 [==============================] - 0s 28ms/step - loss: 0.0089 - mae: 0.0794 - val_loss: 0.0090 - val_mae: 0.0820\n",
            "Epoch 47/200\n",
            "3/3 [==============================] - 0s 23ms/step - loss: 0.0090 - mae: 0.0800 - val_loss: 0.0090 - val_mae: 0.0816\n",
            "Epoch 48/200\n",
            "3/3 [==============================] - 0s 25ms/step - loss: 0.0088 - mae: 0.0789 - val_loss: 0.0090 - val_mae: 0.0822\n",
            "Epoch 49/200\n",
            "3/3 [==============================] - 0s 30ms/step - loss: 0.0089 - mae: 0.0799 - val_loss: 0.0088 - val_mae: 0.0818\n",
            "Epoch 50/200\n",
            "3/3 [==============================] - 0s 22ms/step - loss: 0.0089 - mae: 0.0802 - val_loss: 0.0089 - val_mae: 0.0816\n",
            "Epoch 51/200\n",
            "3/3 [==============================] - 0s 28ms/step - loss: 0.0088 - mae: 0.0788 - val_loss: 0.0088 - val_mae: 0.0815\n",
            "Epoch 52/200\n",
            "3/3 [==============================] - 0s 28ms/step - loss: 0.0086 - mae: 0.0780 - val_loss: 0.0088 - val_mae: 0.0813\n",
            "Epoch 53/200\n",
            "3/3 [==============================] - 0s 27ms/step - loss: 0.0086 - mae: 0.0780 - val_loss: 0.0086 - val_mae: 0.0815\n",
            "Epoch 54/200\n",
            "3/3 [==============================] - 0s 28ms/step - loss: 0.0086 - mae: 0.0791 - val_loss: 0.0086 - val_mae: 0.0821\n",
            "Epoch 55/200\n",
            "3/3 [==============================] - 0s 26ms/step - loss: 0.0084 - mae: 0.0782 - val_loss: 0.0087 - val_mae: 0.0826\n",
            "Epoch 56/200\n",
            "3/3 [==============================] - 0s 29ms/step - loss: 0.0084 - mae: 0.0783 - val_loss: 0.0085 - val_mae: 0.0819\n",
            "Epoch 57/200\n",
            "3/3 [==============================] - 0s 28ms/step - loss: 0.0083 - mae: 0.0778 - val_loss: 0.0085 - val_mae: 0.0820\n",
            "Epoch 58/200\n",
            "3/3 [==============================] - 0s 27ms/step - loss: 0.0083 - mae: 0.0770 - val_loss: 0.0084 - val_mae: 0.0819\n",
            "Epoch 59/200\n",
            "3/3 [==============================] - 0s 21ms/step - loss: 0.0084 - mae: 0.0776 - val_loss: 0.0086 - val_mae: 0.0828\n",
            "Epoch 60/200\n",
            "3/3 [==============================] - 0s 31ms/step - loss: 0.0082 - mae: 0.0777 - val_loss: 0.0083 - val_mae: 0.0819\n",
            "Epoch 61/200\n",
            "3/3 [==============================] - 0s 25ms/step - loss: 0.0080 - mae: 0.0762 - val_loss: 0.0084 - val_mae: 0.0827\n",
            "Epoch 62/200\n",
            "3/3 [==============================] - 0s 24ms/step - loss: 0.0081 - mae: 0.0767 - val_loss: 0.0084 - val_mae: 0.0826\n",
            "Epoch 63/200\n",
            "3/3 [==============================] - 0s 28ms/step - loss: 0.0079 - mae: 0.0768 - val_loss: 0.0083 - val_mae: 0.0811\n",
            "Epoch 64/200\n",
            "3/3 [==============================] - 0s 31ms/step - loss: 0.0081 - mae: 0.0760 - val_loss: 0.0082 - val_mae: 0.0808\n",
            "Epoch 65/200\n",
            "3/3 [==============================] - 0s 22ms/step - loss: 0.0079 - mae: 0.0748 - val_loss: 0.0082 - val_mae: 0.0823\n",
            "Epoch 66/200\n",
            "3/3 [==============================] - 0s 21ms/step - loss: 0.0078 - mae: 0.0763 - val_loss: 0.0083 - val_mae: 0.0824\n",
            "Epoch 67/200\n",
            "3/3 [==============================] - 0s 27ms/step - loss: 0.0078 - mae: 0.0757 - val_loss: 0.0081 - val_mae: 0.0819\n",
            "Epoch 68/200\n",
            "3/3 [==============================] - 0s 21ms/step - loss: 0.0079 - mae: 0.0759 - val_loss: 0.0081 - val_mae: 0.0820\n",
            "Epoch 69/200\n",
            "3/3 [==============================] - 0s 45ms/step - loss: 0.0076 - mae: 0.0748 - val_loss: 0.0079 - val_mae: 0.0815\n",
            "Epoch 70/200\n",
            "3/3 [==============================] - 0s 21ms/step - loss: 0.0078 - mae: 0.0763 - val_loss: 0.0080 - val_mae: 0.0800\n",
            "Epoch 71/200\n",
            "3/3 [==============================] - 0s 28ms/step - loss: 0.0077 - mae: 0.0735 - val_loss: 0.0077 - val_mae: 0.0803\n",
            "Epoch 72/200\n",
            "3/3 [==============================] - 0s 23ms/step - loss: 0.0076 - mae: 0.0727 - val_loss: 0.0078 - val_mae: 0.0809\n",
            "Epoch 73/200\n",
            "3/3 [==============================] - 0s 29ms/step - loss: 0.0078 - mae: 0.0762 - val_loss: 0.0077 - val_mae: 0.0804\n",
            "Epoch 74/200\n",
            "3/3 [==============================] - 0s 23ms/step - loss: 0.0074 - mae: 0.0729 - val_loss: 0.0080 - val_mae: 0.0816\n",
            "Epoch 75/200\n",
            "3/3 [==============================] - 0s 24ms/step - loss: 0.0073 - mae: 0.0736 - val_loss: 0.0082 - val_mae: 0.0819\n",
            "Epoch 76/200\n",
            "3/3 [==============================] - 0s 22ms/step - loss: 0.0073 - mae: 0.0737 - val_loss: 0.0077 - val_mae: 0.0805\n",
            "Epoch 77/200\n",
            "3/3 [==============================] - 0s 23ms/step - loss: 0.0073 - mae: 0.0726 - val_loss: 0.0077 - val_mae: 0.0805\n",
            "Epoch 78/200\n",
            "3/3 [==============================] - 0s 25ms/step - loss: 0.0072 - mae: 0.0719 - val_loss: 0.0077 - val_mae: 0.0804\n",
            "Epoch 79/200\n",
            "3/3 [==============================] - 0s 22ms/step - loss: 0.0071 - mae: 0.0716 - val_loss: 0.0079 - val_mae: 0.0807\n",
            "Epoch 80/200\n",
            "3/3 [==============================] - 0s 30ms/step - loss: 0.0071 - mae: 0.0722 - val_loss: 0.0077 - val_mae: 0.0792\n",
            "Epoch 81/200\n",
            "3/3 [==============================] - 0s 22ms/step - loss: 0.0071 - mae: 0.0702 - val_loss: 0.0086 - val_mae: 0.0829\n",
            "Epoch 82/200\n",
            "3/3 [==============================] - 0s 28ms/step - loss: 0.0073 - mae: 0.0734 - val_loss: 0.0076 - val_mae: 0.0794\n",
            "Epoch 83/200\n",
            "3/3 [==============================] - 0s 22ms/step - loss: 0.0072 - mae: 0.0710 - val_loss: 0.0076 - val_mae: 0.0788\n",
            "Epoch 84/200\n",
            "3/3 [==============================] - 0s 30ms/step - loss: 0.0074 - mae: 0.0722 - val_loss: 0.0077 - val_mae: 0.0799\n",
            "Epoch 85/200\n",
            "3/3 [==============================] - 0s 29ms/step - loss: 0.0071 - mae: 0.0722 - val_loss: 0.0075 - val_mae: 0.0784\n",
            "Epoch 86/200\n",
            "3/3 [==============================] - 0s 22ms/step - loss: 0.0070 - mae: 0.0698 - val_loss: 0.0078 - val_mae: 0.0795\n",
            "Epoch 87/200\n",
            "3/3 [==============================] - 0s 24ms/step - loss: 0.0069 - mae: 0.0701 - val_loss: 0.0077 - val_mae: 0.0791\n",
            "Epoch 88/200\n",
            "3/3 [==============================] - 0s 24ms/step - loss: 0.0069 - mae: 0.0705 - val_loss: 0.0078 - val_mae: 0.0798\n",
            "Epoch 89/200\n",
            "3/3 [==============================] - 0s 28ms/step - loss: 0.0069 - mae: 0.0703 - val_loss: 0.0075 - val_mae: 0.0771\n",
            "Epoch 90/200\n",
            "3/3 [==============================] - 0s 23ms/step - loss: 0.0074 - mae: 0.0714 - val_loss: 0.0075 - val_mae: 0.0780\n",
            "Epoch 91/200\n",
            "3/3 [==============================] - 0s 22ms/step - loss: 0.0069 - mae: 0.0697 - val_loss: 0.0075 - val_mae: 0.0779\n",
            "Epoch 92/200\n",
            "3/3 [==============================] - 0s 23ms/step - loss: 0.0069 - mae: 0.0693 - val_loss: 0.0079 - val_mae: 0.0798\n",
            "Epoch 93/200\n",
            "3/3 [==============================] - 0s 22ms/step - loss: 0.0068 - mae: 0.0698 - val_loss: 0.0077 - val_mae: 0.0787\n",
            "Epoch 94/200\n",
            "3/3 [==============================] - 0s 28ms/step - loss: 0.0068 - mae: 0.0696 - val_loss: 0.0073 - val_mae: 0.0764\n",
            "Epoch 95/200\n",
            "3/3 [==============================] - 0s 21ms/step - loss: 0.0068 - mae: 0.0682 - val_loss: 0.0076 - val_mae: 0.0776\n",
            "Epoch 96/200\n",
            "3/3 [==============================] - 0s 28ms/step - loss: 0.0069 - mae: 0.0698 - val_loss: 0.0072 - val_mae: 0.0756\n",
            "Epoch 97/200\n",
            "3/3 [==============================] - 0s 24ms/step - loss: 0.0067 - mae: 0.0681 - val_loss: 0.0075 - val_mae: 0.0766\n",
            "Epoch 98/200\n",
            "3/3 [==============================] - 0s 22ms/step - loss: 0.0068 - mae: 0.0685 - val_loss: 0.0075 - val_mae: 0.0764\n",
            "Epoch 99/200\n",
            "3/3 [==============================] - 0s 29ms/step - loss: 0.0066 - mae: 0.0678 - val_loss: 0.0071 - val_mae: 0.0741\n",
            "Epoch 100/200\n",
            "3/3 [==============================] - 0s 23ms/step - loss: 0.0068 - mae: 0.0676 - val_loss: 0.0087 - val_mae: 0.0802\n",
            "Epoch 101/200\n",
            "3/3 [==============================] - 0s 27ms/step - loss: 0.0071 - mae: 0.0701 - val_loss: 0.0074 - val_mae: 0.0754\n",
            "Epoch 102/200\n",
            "3/3 [==============================] - 0s 29ms/step - loss: 0.0067 - mae: 0.0675 - val_loss: 0.0070 - val_mae: 0.0741\n",
            "Epoch 103/200\n",
            "3/3 [==============================] - 0s 22ms/step - loss: 0.0067 - mae: 0.0668 - val_loss: 0.0083 - val_mae: 0.0790\n",
            "Epoch 104/200\n",
            "3/3 [==============================] - 0s 24ms/step - loss: 0.0070 - mae: 0.0702 - val_loss: 0.0077 - val_mae: 0.0775\n",
            "Epoch 105/200\n",
            "3/3 [==============================] - 0s 22ms/step - loss: 0.0066 - mae: 0.0680 - val_loss: 0.0074 - val_mae: 0.0759\n",
            "Epoch 106/200\n",
            "3/3 [==============================] - 0s 22ms/step - loss: 0.0067 - mae: 0.0677 - val_loss: 0.0090 - val_mae: 0.0817\n",
            "Epoch 107/200\n",
            "3/3 [==============================] - 0s 25ms/step - loss: 0.0067 - mae: 0.0691 - val_loss: 0.0074 - val_mae: 0.0755\n",
            "Epoch 108/200\n",
            "3/3 [==============================] - 0s 23ms/step - loss: 0.0067 - mae: 0.0675 - val_loss: 0.0073 - val_mae: 0.0749\n",
            "Epoch 109/200\n",
            "3/3 [==============================] - 0s 23ms/step - loss: 0.0071 - mae: 0.0688 - val_loss: 0.0072 - val_mae: 0.0746\n",
            "Epoch 110/200\n",
            "3/3 [==============================] - 0s 25ms/step - loss: 0.0066 - mae: 0.0673 - val_loss: 0.0072 - val_mae: 0.0749\n",
            "Epoch 111/200\n",
            "3/3 [==============================] - 0s 23ms/step - loss: 0.0066 - mae: 0.0672 - val_loss: 0.0072 - val_mae: 0.0752\n",
            "Epoch 112/200\n",
            "3/3 [==============================] - 0s 22ms/step - loss: 0.0065 - mae: 0.0671 - val_loss: 0.0079 - val_mae: 0.0775\n",
            "Epoch 113/200\n",
            "3/3 [==============================] - 0s 22ms/step - loss: 0.0065 - mae: 0.0675 - val_loss: 0.0071 - val_mae: 0.0741\n",
            "Epoch 114/200\n",
            "3/3 [==============================] - 0s 27ms/step - loss: 0.0065 - mae: 0.0672 - val_loss: 0.0069 - val_mae: 0.0725\n",
            "Epoch 115/200\n",
            "3/3 [==============================] - 0s 22ms/step - loss: 0.0065 - mae: 0.0655 - val_loss: 0.0077 - val_mae: 0.0756\n",
            "Epoch 116/200\n",
            "3/3 [==============================] - 0s 24ms/step - loss: 0.0065 - mae: 0.0665 - val_loss: 0.0077 - val_mae: 0.0750\n",
            "Epoch 117/200\n",
            "3/3 [==============================] - 0s 23ms/step - loss: 0.0067 - mae: 0.0668 - val_loss: 0.0073 - val_mae: 0.0739\n",
            "Epoch 118/200\n",
            "3/3 [==============================] - 0s 23ms/step - loss: 0.0064 - mae: 0.0654 - val_loss: 0.0072 - val_mae: 0.0732\n",
            "Epoch 119/200\n",
            "3/3 [==============================] - 0s 33ms/step - loss: 0.0066 - mae: 0.0668 - val_loss: 0.0066 - val_mae: 0.0703\n",
            "Epoch 120/200\n",
            "3/3 [==============================] - 0s 26ms/step - loss: 0.0066 - mae: 0.0659 - val_loss: 0.0070 - val_mae: 0.0718\n",
            "Epoch 121/200\n",
            "3/3 [==============================] - 0s 22ms/step - loss: 0.0064 - mae: 0.0647 - val_loss: 0.0074 - val_mae: 0.0738\n",
            "Epoch 122/200\n",
            "3/3 [==============================] - 0s 23ms/step - loss: 0.0066 - mae: 0.0673 - val_loss: 0.0067 - val_mae: 0.0698\n",
            "Epoch 123/200\n",
            "3/3 [==============================] - 0s 24ms/step - loss: 0.0067 - mae: 0.0655 - val_loss: 0.0066 - val_mae: 0.0698\n",
            "Epoch 124/200\n",
            "3/3 [==============================] - 0s 23ms/step - loss: 0.0066 - mae: 0.0668 - val_loss: 0.0075 - val_mae: 0.0738\n",
            "Epoch 125/200\n",
            "3/3 [==============================] - 0s 22ms/step - loss: 0.0064 - mae: 0.0648 - val_loss: 0.0084 - val_mae: 0.0768\n",
            "Epoch 126/200\n",
            "3/3 [==============================] - 0s 26ms/step - loss: 0.0065 - mae: 0.0668 - val_loss: 0.0072 - val_mae: 0.0725\n",
            "Epoch 127/200\n",
            "3/3 [==============================] - 0s 23ms/step - loss: 0.0063 - mae: 0.0646 - val_loss: 0.0067 - val_mae: 0.0702\n",
            "Epoch 128/200\n",
            "3/3 [==============================] - 0s 22ms/step - loss: 0.0063 - mae: 0.0645 - val_loss: 0.0072 - val_mae: 0.0728\n",
            "Epoch 129/200\n",
            "3/3 [==============================] - 0s 23ms/step - loss: 0.0063 - mae: 0.0644 - val_loss: 0.0080 - val_mae: 0.0757\n",
            "Epoch 130/200\n",
            "3/3 [==============================] - 0s 30ms/step - loss: 0.0063 - mae: 0.0657 - val_loss: 0.0076 - val_mae: 0.0744\n",
            "Epoch 131/200\n",
            "3/3 [==============================] - 0s 48ms/step - loss: 0.0062 - mae: 0.0650 - val_loss: 0.0064 - val_mae: 0.0692\n",
            "Epoch 132/200\n",
            "3/3 [==============================] - 0s 42ms/step - loss: 0.0070 - mae: 0.0679 - val_loss: 0.0064 - val_mae: 0.0688\n",
            "Epoch 133/200\n",
            "3/3 [==============================] - 0s 31ms/step - loss: 0.0066 - mae: 0.0663 - val_loss: 0.0072 - val_mae: 0.0737\n",
            "Epoch 134/200\n",
            "3/3 [==============================] - 0s 46ms/step - loss: 0.0062 - mae: 0.0648 - val_loss: 0.0068 - val_mae: 0.0708\n",
            "Epoch 135/200\n",
            "3/3 [==============================] - 0s 44ms/step - loss: 0.0064 - mae: 0.0651 - val_loss: 0.0066 - val_mae: 0.0710\n",
            "Epoch 136/200\n",
            "3/3 [==============================] - 0s 32ms/step - loss: 0.0062 - mae: 0.0640 - val_loss: 0.0073 - val_mae: 0.0740\n",
            "Epoch 137/200\n",
            "3/3 [==============================] - 0s 32ms/step - loss: 0.0066 - mae: 0.0673 - val_loss: 0.0064 - val_mae: 0.0697\n",
            "Epoch 138/200\n",
            "3/3 [==============================] - 0s 44ms/step - loss: 0.0062 - mae: 0.0639 - val_loss: 0.0064 - val_mae: 0.0692\n",
            "Epoch 139/200\n",
            "3/3 [==============================] - 0s 51ms/step - loss: 0.0062 - mae: 0.0646 - val_loss: 0.0063 - val_mae: 0.0692\n",
            "Epoch 140/200\n",
            "3/3 [==============================] - 0s 23ms/step - loss: 0.0065 - mae: 0.0659 - val_loss: 0.0065 - val_mae: 0.0695\n",
            "Epoch 141/200\n",
            "3/3 [==============================] - 0s 24ms/step - loss: 0.0063 - mae: 0.0648 - val_loss: 0.0064 - val_mae: 0.0678\n",
            "Epoch 142/200\n",
            "3/3 [==============================] - 0s 21ms/step - loss: 0.0064 - mae: 0.0651 - val_loss: 0.0065 - val_mae: 0.0689\n",
            "Epoch 143/200\n",
            "3/3 [==============================] - 0s 23ms/step - loss: 0.0061 - mae: 0.0634 - val_loss: 0.0066 - val_mae: 0.0701\n",
            "Epoch 144/200\n",
            "3/3 [==============================] - 0s 22ms/step - loss: 0.0063 - mae: 0.0645 - val_loss: 0.0070 - val_mae: 0.0715\n",
            "Epoch 145/200\n",
            "3/3 [==============================] - 0s 44ms/step - loss: 0.0062 - mae: 0.0630 - val_loss: 0.0077 - val_mae: 0.0745\n",
            "Epoch 146/200\n",
            "3/3 [==============================] - 0s 60ms/step - loss: 0.0062 - mae: 0.0635 - val_loss: 0.0070 - val_mae: 0.0726\n",
            "Epoch 147/200\n",
            "3/3 [==============================] - 0s 44ms/step - loss: 0.0060 - mae: 0.0634 - val_loss: 0.0068 - val_mae: 0.0711\n",
            "Epoch 148/200\n",
            "3/3 [==============================] - 0s 35ms/step - loss: 0.0060 - mae: 0.0639 - val_loss: 0.0068 - val_mae: 0.0710\n",
            "Epoch 149/200\n",
            "3/3 [==============================] - 0s 100ms/step - loss: 0.0063 - mae: 0.0647 - val_loss: 0.0068 - val_mae: 0.0702\n",
            "Epoch 150/200\n",
            "3/3 [==============================] - 0s 44ms/step - loss: 0.0060 - mae: 0.0628 - val_loss: 0.0074 - val_mae: 0.0733\n",
            "Epoch 151/200\n",
            "3/3 [==============================] - 0s 45ms/step - loss: 0.0060 - mae: 0.0634 - val_loss: 0.0066 - val_mae: 0.0685\n",
            "Epoch 152/200\n",
            "3/3 [==============================] - 0s 54ms/step - loss: 0.0060 - mae: 0.0633 - val_loss: 0.0074 - val_mae: 0.0721\n",
            "Epoch 153/200\n",
            "3/3 [==============================] - 0s 97ms/step - loss: 0.0060 - mae: 0.0633 - val_loss: 0.0069 - val_mae: 0.0707\n",
            "Epoch 154/200\n",
            "3/3 [==============================] - 0s 46ms/step - loss: 0.0059 - mae: 0.0628 - val_loss: 0.0064 - val_mae: 0.0682\n",
            "Epoch 155/200\n",
            "3/3 [==============================] - 0s 47ms/step - loss: 0.0059 - mae: 0.0630 - val_loss: 0.0069 - val_mae: 0.0699\n",
            "Epoch 156/200\n",
            "3/3 [==============================] - 0s 96ms/step - loss: 0.0064 - mae: 0.0648 - val_loss: 0.0073 - val_mae: 0.0710\n",
            "Epoch 157/200\n",
            "3/3 [==============================] - 0s 123ms/step - loss: 0.0060 - mae: 0.0632 - val_loss: 0.0060 - val_mae: 0.0653\n",
            "Epoch 158/200\n",
            "3/3 [==============================] - 0s 42ms/step - loss: 0.0059 - mae: 0.0621 - val_loss: 0.0075 - val_mae: 0.0724\n",
            "Epoch 159/200\n",
            "3/3 [==============================] - 0s 88ms/step - loss: 0.0061 - mae: 0.0631 - val_loss: 0.0088 - val_mae: 0.0751\n",
            "Epoch 160/200\n",
            "3/3 [==============================] - 0s 99ms/step - loss: 0.0065 - mae: 0.0650 - val_loss: 0.0079 - val_mae: 0.0746\n",
            "Epoch 161/200\n",
            "3/3 [==============================] - 0s 102ms/step - loss: 0.0059 - mae: 0.0637 - val_loss: 0.0069 - val_mae: 0.0709\n",
            "Epoch 162/200\n",
            "3/3 [==============================] - 0s 41ms/step - loss: 0.0058 - mae: 0.0619 - val_loss: 0.0068 - val_mae: 0.0705\n",
            "Epoch 163/200\n",
            "3/3 [==============================] - 0s 92ms/step - loss: 0.0059 - mae: 0.0625 - val_loss: 0.0068 - val_mae: 0.0699\n",
            "Epoch 164/200\n",
            "3/3 [==============================] - 0s 49ms/step - loss: 0.0058 - mae: 0.0625 - val_loss: 0.0061 - val_mae: 0.0667\n",
            "Epoch 165/200\n",
            "3/3 [==============================] - 0s 66ms/step - loss: 0.0058 - mae: 0.0620 - val_loss: 0.0060 - val_mae: 0.0658\n",
            "Epoch 166/200\n",
            "3/3 [==============================] - 0s 23ms/step - loss: 0.0062 - mae: 0.0645 - val_loss: 0.0071 - val_mae: 0.0701\n",
            "Epoch 167/200\n",
            "3/3 [==============================] - 0s 22ms/step - loss: 0.0059 - mae: 0.0624 - val_loss: 0.0070 - val_mae: 0.0693\n",
            "Epoch 168/200\n",
            "3/3 [==============================] - 0s 22ms/step - loss: 0.0057 - mae: 0.0613 - val_loss: 0.0061 - val_mae: 0.0666\n",
            "Epoch 169/200\n",
            "3/3 [==============================] - 0s 25ms/step - loss: 0.0060 - mae: 0.0628 - val_loss: 0.0070 - val_mae: 0.0691\n",
            "Epoch 170/200\n",
            "3/3 [==============================] - 0s 22ms/step - loss: 0.0060 - mae: 0.0629 - val_loss: 0.0063 - val_mae: 0.0669\n",
            "Epoch 171/200\n",
            "3/3 [==============================] - 0s 24ms/step - loss: 0.0061 - mae: 0.0635 - val_loss: 0.0070 - val_mae: 0.0700\n",
            "Epoch 172/200\n",
            "3/3 [==============================] - 0s 23ms/step - loss: 0.0057 - mae: 0.0617 - val_loss: 0.0084 - val_mae: 0.0743\n",
            "Epoch 173/200\n",
            "3/3 [==============================] - 0s 23ms/step - loss: 0.0059 - mae: 0.0640 - val_loss: 0.0066 - val_mae: 0.0685\n",
            "Epoch 174/200\n",
            "3/3 [==============================] - 0s 24ms/step - loss: 0.0056 - mae: 0.0613 - val_loss: 0.0076 - val_mae: 0.0709\n",
            "Epoch 175/200\n",
            "3/3 [==============================] - 0s 25ms/step - loss: 0.0058 - mae: 0.0622 - val_loss: 0.0063 - val_mae: 0.0658\n",
            "Epoch 176/200\n",
            "3/3 [==============================] - 0s 23ms/step - loss: 0.0056 - mae: 0.0603 - val_loss: 0.0071 - val_mae: 0.0685\n",
            "Epoch 177/200\n",
            "3/3 [==============================] - 0s 21ms/step - loss: 0.0061 - mae: 0.0623 - val_loss: 0.0083 - val_mae: 0.0713\n",
            "Epoch 178/200\n",
            "3/3 [==============================] - 0s 27ms/step - loss: 0.0063 - mae: 0.0647 - val_loss: 0.0083 - val_mae: 0.0718\n",
            "Epoch 179/200\n",
            "3/3 [==============================] - 0s 23ms/step - loss: 0.0059 - mae: 0.0618 - val_loss: 0.0060 - val_mae: 0.0641\n",
            "Epoch 180/200\n",
            "3/3 [==============================] - 0s 26ms/step - loss: 0.0055 - mae: 0.0596 - val_loss: 0.0085 - val_mae: 0.0727\n",
            "Epoch 181/200\n",
            "3/3 [==============================] - 0s 22ms/step - loss: 0.0060 - mae: 0.0628 - val_loss: 0.0067 - val_mae: 0.0672\n",
            "Epoch 182/200\n",
            "3/3 [==============================] - 0s 24ms/step - loss: 0.0057 - mae: 0.0608 - val_loss: 0.0077 - val_mae: 0.0708\n",
            "Epoch 183/200\n",
            "3/3 [==============================] - 0s 21ms/step - loss: 0.0058 - mae: 0.0624 - val_loss: 0.0076 - val_mae: 0.0705\n",
            "Epoch 184/200\n",
            "3/3 [==============================] - 0s 21ms/step - loss: 0.0056 - mae: 0.0599 - val_loss: 0.0064 - val_mae: 0.0669\n",
            "Epoch 185/200\n",
            "3/3 [==============================] - 0s 23ms/step - loss: 0.0054 - mae: 0.0601 - val_loss: 0.0068 - val_mae: 0.0683\n",
            "Epoch 186/200\n",
            "3/3 [==============================] - 0s 32ms/step - loss: 0.0054 - mae: 0.0596 - val_loss: 0.0058 - val_mae: 0.0636\n",
            "Epoch 187/200\n",
            "3/3 [==============================] - 0s 22ms/step - loss: 0.0054 - mae: 0.0592 - val_loss: 0.0066 - val_mae: 0.0670\n",
            "Epoch 188/200\n",
            "3/3 [==============================] - 0s 23ms/step - loss: 0.0058 - mae: 0.0618 - val_loss: 0.0072 - val_mae: 0.0693\n",
            "Epoch 189/200\n",
            "3/3 [==============================] - 0s 23ms/step - loss: 0.0057 - mae: 0.0619 - val_loss: 0.0061 - val_mae: 0.0659\n",
            "Epoch 190/200\n",
            "3/3 [==============================] - 0s 22ms/step - loss: 0.0053 - mae: 0.0594 - val_loss: 0.0059 - val_mae: 0.0646\n",
            "Epoch 191/200\n",
            "3/3 [==============================] - 0s 42ms/step - loss: 0.0055 - mae: 0.0602 - val_loss: 0.0067 - val_mae: 0.0681\n",
            "Epoch 192/200\n",
            "3/3 [==============================] - 0s 43ms/step - loss: 0.0054 - mae: 0.0604 - val_loss: 0.0082 - val_mae: 0.0712\n",
            "Epoch 193/200\n",
            "3/3 [==============================] - 0s 52ms/step - loss: 0.0061 - mae: 0.0636 - val_loss: 0.0055 - val_mae: 0.0620\n",
            "Epoch 194/200\n",
            "3/3 [==============================] - 0s 44ms/step - loss: 0.0053 - mae: 0.0584 - val_loss: 0.0070 - val_mae: 0.0678\n",
            "Epoch 195/200\n",
            "3/3 [==============================] - 0s 44ms/step - loss: 0.0055 - mae: 0.0603 - val_loss: 0.0075 - val_mae: 0.0699\n",
            "Epoch 196/200\n",
            "3/3 [==============================] - 0s 43ms/step - loss: 0.0053 - mae: 0.0587 - val_loss: 0.0057 - val_mae: 0.0646\n",
            "Epoch 197/200\n",
            "3/3 [==============================] - 0s 41ms/step - loss: 0.0056 - mae: 0.0600 - val_loss: 0.0056 - val_mae: 0.0626\n",
            "Epoch 198/200\n",
            "3/3 [==============================] - 0s 31ms/step - loss: 0.0052 - mae: 0.0581 - val_loss: 0.0058 - val_mae: 0.0640\n",
            "Epoch 199/200\n",
            "3/3 [==============================] - 0s 34ms/step - loss: 0.0054 - mae: 0.0588 - val_loss: 0.0072 - val_mae: 0.0680\n",
            "Epoch 200/200\n",
            "3/3 [==============================] - 0s 45ms/step - loss: 0.0058 - mae: 0.0633 - val_loss: 0.0056 - val_mae: 0.0621\n"
          ]
        }
      ],
      "source": [
        "callbacks = [\n",
        "    keras.callbacks.ModelCheckpoint(\"LSTM.keras\",\n",
        "                                    save_best_only=True)\n",
        "]\n",
        "model.compile(optimizer=\"rmsprop\", loss=\"mse\", metrics=[\"mae\"])\n",
        "history = model.fit(train_dataset,\n",
        "                    epochs=200,\n",
        "                    validation_data=val_dataset,\n",
        "                    callbacks=callbacks)\n"
      ]
    },
    {
      "cell_type": "code",
      "execution_count": null,
      "metadata": {
        "colab": {
          "base_uri": "https://localhost:8080/"
        },
        "id": "z2OtvM6NC3_x",
        "outputId": "b30e9421-58f0-4453-cfb3-d6bb2a10465f"
      },
      "outputs": [
        {
          "name": "stdout",
          "output_type": "stream",
          "text": [
            "1/1 [==============================] - 1s 632ms/step - loss: 0.0043 - mae: 0.0501\n",
            "Test MAE: 0.050\n"
          ]
        }
      ],
      "source": [
        "model = keras.models.load_model(\"LSTM.keras\")\n",
        "print(f\"Test MAE: {model.evaluate(test_dataset)[1]:.3f}\")"
      ]
    },
    {
      "cell_type": "code",
      "execution_count": null,
      "metadata": {
        "colab": {
          "base_uri": "https://localhost:8080/",
          "height": 206
        },
        "id": "15DEZ09NgVvk",
        "outputId": "7f962b45-e52a-49e2-91fb-9dda3a8144ba"
      },
      "outputs": [
        {
          "data": {
            "text/html": [
              "\n",
              "  <div id=\"df-5f7053a9-cad4-42ea-8cac-33a4d2658cae\">\n",
              "    <div class=\"colab-df-container\">\n",
              "      <div>\n",
              "<style scoped>\n",
              "    .dataframe tbody tr th:only-of-type {\n",
              "        vertical-align: middle;\n",
              "    }\n",
              "\n",
              "    .dataframe tbody tr th {\n",
              "        vertical-align: top;\n",
              "    }\n",
              "\n",
              "    .dataframe thead th {\n",
              "        text-align: right;\n",
              "    }\n",
              "</style>\n",
              "<table border=\"1\" class=\"dataframe\">\n",
              "  <thead>\n",
              "    <tr style=\"text-align: right;\">\n",
              "      <th></th>\n",
              "      <th>loss</th>\n",
              "      <th>mae</th>\n",
              "      <th>val_loss</th>\n",
              "      <th>val_mae</th>\n",
              "    </tr>\n",
              "  </thead>\n",
              "  <tbody>\n",
              "    <tr>\n",
              "      <th>195</th>\n",
              "      <td>0.005293</td>\n",
              "      <td>0.058658</td>\n",
              "      <td>0.005665</td>\n",
              "      <td>0.064590</td>\n",
              "    </tr>\n",
              "    <tr>\n",
              "      <th>196</th>\n",
              "      <td>0.005557</td>\n",
              "      <td>0.060001</td>\n",
              "      <td>0.005579</td>\n",
              "      <td>0.062609</td>\n",
              "    </tr>\n",
              "    <tr>\n",
              "      <th>197</th>\n",
              "      <td>0.005228</td>\n",
              "      <td>0.058065</td>\n",
              "      <td>0.005815</td>\n",
              "      <td>0.063975</td>\n",
              "    </tr>\n",
              "    <tr>\n",
              "      <th>198</th>\n",
              "      <td>0.005428</td>\n",
              "      <td>0.058771</td>\n",
              "      <td>0.007180</td>\n",
              "      <td>0.068043</td>\n",
              "    </tr>\n",
              "    <tr>\n",
              "      <th>199</th>\n",
              "      <td>0.005778</td>\n",
              "      <td>0.063285</td>\n",
              "      <td>0.005562</td>\n",
              "      <td>0.062112</td>\n",
              "    </tr>\n",
              "  </tbody>\n",
              "</table>\n",
              "</div>\n",
              "      <button class=\"colab-df-convert\" onclick=\"convertToInteractive('df-5f7053a9-cad4-42ea-8cac-33a4d2658cae')\"\n",
              "              title=\"Convert this dataframe to an interactive table.\"\n",
              "              style=\"display:none;\">\n",
              "        \n",
              "  <svg xmlns=\"http://www.w3.org/2000/svg\" height=\"24px\"viewBox=\"0 0 24 24\"\n",
              "       width=\"24px\">\n",
              "    <path d=\"M0 0h24v24H0V0z\" fill=\"none\"/>\n",
              "    <path d=\"M18.56 5.44l.94 2.06.94-2.06 2.06-.94-2.06-.94-.94-2.06-.94 2.06-2.06.94zm-11 1L8.5 8.5l.94-2.06 2.06-.94-2.06-.94L8.5 2.5l-.94 2.06-2.06.94zm10 10l.94 2.06.94-2.06 2.06-.94-2.06-.94-.94-2.06-.94 2.06-2.06.94z\"/><path d=\"M17.41 7.96l-1.37-1.37c-.4-.4-.92-.59-1.43-.59-.52 0-1.04.2-1.43.59L10.3 9.45l-7.72 7.72c-.78.78-.78 2.05 0 2.83L4 21.41c.39.39.9.59 1.41.59.51 0 1.02-.2 1.41-.59l7.78-7.78 2.81-2.81c.8-.78.8-2.07 0-2.86zM5.41 20L4 18.59l7.72-7.72 1.47 1.35L5.41 20z\"/>\n",
              "  </svg>\n",
              "      </button>\n",
              "      \n",
              "  <style>\n",
              "    .colab-df-container {\n",
              "      display:flex;\n",
              "      flex-wrap:wrap;\n",
              "      gap: 12px;\n",
              "    }\n",
              "\n",
              "    .colab-df-convert {\n",
              "      background-color: #E8F0FE;\n",
              "      border: none;\n",
              "      border-radius: 50%;\n",
              "      cursor: pointer;\n",
              "      display: none;\n",
              "      fill: #1967D2;\n",
              "      height: 32px;\n",
              "      padding: 0 0 0 0;\n",
              "      width: 32px;\n",
              "    }\n",
              "\n",
              "    .colab-df-convert:hover {\n",
              "      background-color: #E2EBFA;\n",
              "      box-shadow: 0px 1px 2px rgba(60, 64, 67, 0.3), 0px 1px 3px 1px rgba(60, 64, 67, 0.15);\n",
              "      fill: #174EA6;\n",
              "    }\n",
              "\n",
              "    [theme=dark] .colab-df-convert {\n",
              "      background-color: #3B4455;\n",
              "      fill: #D2E3FC;\n",
              "    }\n",
              "\n",
              "    [theme=dark] .colab-df-convert:hover {\n",
              "      background-color: #434B5C;\n",
              "      box-shadow: 0px 1px 3px 1px rgba(0, 0, 0, 0.15);\n",
              "      filter: drop-shadow(0px 1px 2px rgba(0, 0, 0, 0.3));\n",
              "      fill: #FFFFFF;\n",
              "    }\n",
              "  </style>\n",
              "\n",
              "      <script>\n",
              "        const buttonEl =\n",
              "          document.querySelector('#df-5f7053a9-cad4-42ea-8cac-33a4d2658cae button.colab-df-convert');\n",
              "        buttonEl.style.display =\n",
              "          google.colab.kernel.accessAllowed ? 'block' : 'none';\n",
              "\n",
              "        async function convertToInteractive(key) {\n",
              "          const element = document.querySelector('#df-5f7053a9-cad4-42ea-8cac-33a4d2658cae');\n",
              "          const dataTable =\n",
              "            await google.colab.kernel.invokeFunction('convertToInteractive',\n",
              "                                                     [key], {});\n",
              "          if (!dataTable) return;\n",
              "\n",
              "          const docLinkHtml = 'Like what you see? Visit the ' +\n",
              "            '<a target=\"_blank\" href=https://colab.research.google.com/notebooks/data_table.ipynb>data table notebook</a>'\n",
              "            + ' to learn more about interactive tables.';\n",
              "          element.innerHTML = '';\n",
              "          dataTable['output_type'] = 'display_data';\n",
              "          await google.colab.output.renderOutput(dataTable, element);\n",
              "          const docLink = document.createElement('div');\n",
              "          docLink.innerHTML = docLinkHtml;\n",
              "          element.appendChild(docLink);\n",
              "        }\n",
              "      </script>\n",
              "    </div>\n",
              "  </div>\n",
              "  "
            ],
            "text/plain": [
              "         loss       mae  val_loss   val_mae\n",
              "195  0.005293  0.058658  0.005665  0.064590\n",
              "196  0.005557  0.060001  0.005579  0.062609\n",
              "197  0.005228  0.058065  0.005815  0.063975\n",
              "198  0.005428  0.058771  0.007180  0.068043\n",
              "199  0.005778  0.063285  0.005562  0.062112"
            ]
          },
          "execution_count": 39,
          "metadata": {},
          "output_type": "execute_result"
        }
      ],
      "source": [
        "loss_df = pd.DataFrame(history.history)\n",
        "loss_df.tail()\n"
      ]
    },
    {
      "cell_type": "code",
      "execution_count": null,
      "metadata": {
        "colab": {
          "base_uri": "https://localhost:8080/",
          "height": 452
        },
        "id": "om14CtIBgVvl",
        "outputId": "e9d23e7c-2132-495b-dc8f-d08f17a742f5"
      },
      "outputs": [
        {
          "data": {
            "image/png": "[encoded data removed]",
            "text/plain": [
              "<Figure size 640x480 with 1 Axes>"
            ]
          },
          "metadata": {},
          "output_type": "display_data"
        }
      ],
      "source": [
        "import matplotlib.pyplot as plt\n",
        "\n",
        "loss_df[['loss', 'val_loss']].plot(legend=True, title='Training and Validation Loss')\n",
        "plt.show()"
      ]
    },
    {
      "cell_type": "markdown",
      "metadata": {
        "id": "fiOQxear70SU"
      },
      "source": [
        "# More complex models with regularization"
      ]
    },
    {
      "cell_type": "code",
      "execution_count": null,
      "metadata": {
        "colab": {
          "base_uri": "https://localhost:8080/"
        },
        "id": "MMf1titmavbx",
        "outputId": "9b4f9832-fb2d-4300-8499-6b11506b5996"
      },
      "outputs": [
        {
          "name": "stdout",
          "output_type": "stream",
          "text": [
            "Epoch 1/100\n",
            "3/3 [==============================] - 3s 191ms/step - loss: 0.2017 - mae: 0.3728 - val_loss: 0.0629 - val_mae: 0.2207\n",
            "Epoch 2/100\n",
            "3/3 [==============================] - 0s 60ms/step - loss: 0.0888 - mae: 0.2440 - val_loss: 0.0393 - val_mae: 0.1860\n",
            "Epoch 3/100\n",
            "3/3 [==============================] - 0s 54ms/step - loss: 0.1083 - mae: 0.2794 - val_loss: 0.0145 - val_mae: 0.0894\n",
            "Epoch 4/100\n",
            "3/3 [==============================] - 0s 57ms/step - loss: 0.0710 - mae: 0.2096 - val_loss: 0.0097 - val_mae: 0.0797\n",
            "Epoch 5/100\n",
            "3/3 [==============================] - 0s 54ms/step - loss: 0.0613 - mae: 0.1988 - val_loss: 0.0081 - val_mae: 0.0742\n",
            "Epoch 6/100\n",
            "3/3 [==============================] - 0s 50ms/step - loss: 0.0597 - mae: 0.2076 - val_loss: 0.0118 - val_mae: 0.0883\n",
            "Epoch 7/100\n",
            "3/3 [==============================] - 0s 55ms/step - loss: 0.0461 - mae: 0.1763 - val_loss: 0.0062 - val_mae: 0.0664\n",
            "Epoch 8/100\n",
            "3/3 [==============================] - 0s 67ms/step - loss: 0.0388 - mae: 0.1637 - val_loss: 0.0057 - val_mae: 0.0596\n",
            "Epoch 9/100\n",
            "3/3 [==============================] - 0s 66ms/step - loss: 0.0400 - mae: 0.1617 - val_loss: 0.0047 - val_mae: 0.0558\n",
            "Epoch 10/100\n",
            "3/3 [==============================] - 0s 51ms/step - loss: 0.0314 - mae: 0.1458 - val_loss: 0.0086 - val_mae: 0.0758\n",
            "Epoch 11/100\n",
            "3/3 [==============================] - 0s 59ms/step - loss: 0.0239 - mae: 0.1269 - val_loss: 0.0039 - val_mae: 0.0474\n",
            "Epoch 12/100\n",
            "3/3 [==============================] - 0s 55ms/step - loss: 0.0324 - mae: 0.1441 - val_loss: 0.0022 - val_mae: 0.0415\n",
            "Epoch 13/100\n",
            "3/3 [==============================] - 0s 53ms/step - loss: 0.0176 - mae: 0.1113 - val_loss: 0.0067 - val_mae: 0.0683\n",
            "Epoch 14/100\n",
            "3/3 [==============================] - 0s 58ms/step - loss: 0.0267 - mae: 0.1311 - val_loss: 0.0018 - val_mae: 0.0322\n",
            "Epoch 15/100\n",
            "3/3 [==============================] - 0s 48ms/step - loss: 0.0146 - mae: 0.0950 - val_loss: 0.0027 - val_mae: 0.0444\n",
            "Epoch 16/100\n",
            "3/3 [==============================] - 0s 53ms/step - loss: 0.0236 - mae: 0.1164 - val_loss: 0.0043 - val_mae: 0.0579\n",
            "Epoch 17/100\n",
            "3/3 [==============================] - 0s 60ms/step - loss: 0.0225 - mae: 0.1248 - val_loss: 7.3264e-04 - val_mae: 0.0230\n",
            "Epoch 18/100\n",
            "3/3 [==============================] - 0s 56ms/step - loss: 0.0202 - mae: 0.1087 - val_loss: 0.0015 - val_mae: 0.0301\n",
            "Epoch 19/100\n",
            "3/3 [==============================] - 0s 50ms/step - loss: 0.0183 - mae: 0.1052 - val_loss: 0.0015 - val_mae: 0.0358\n",
            "Epoch 20/100\n",
            "3/3 [==============================] - 0s 46ms/step - loss: 0.0112 - mae: 0.0826 - val_loss: 0.0014 - val_mae: 0.0346\n",
            "Epoch 21/100\n",
            "3/3 [==============================] - 0s 48ms/step - loss: 0.0173 - mae: 0.1115 - val_loss: 0.0029 - val_mae: 0.0488\n",
            "Epoch 22/100\n",
            "3/3 [==============================] - 0s 46ms/step - loss: 0.0184 - mae: 0.1042 - val_loss: 8.1787e-04 - val_mae: 0.0222\n",
            "Epoch 23/100\n",
            "3/3 [==============================] - 0s 71ms/step - loss: 0.0135 - mae: 0.0927 - val_loss: 6.9120e-04 - val_mae: 0.0241\n",
            "Epoch 24/100\n",
            "3/3 [==============================] - 0s 50ms/step - loss: 0.0185 - mae: 0.1048 - val_loss: 9.4700e-04 - val_mae: 0.0273\n",
            "Epoch 25/100\n",
            "3/3 [==============================] - 0s 50ms/step - loss: 0.0101 - mae: 0.0835 - val_loss: 0.0019 - val_mae: 0.0346\n",
            "Epoch 26/100\n",
            "3/3 [==============================] - 0s 56ms/step - loss: 0.0122 - mae: 0.0953 - val_loss: 0.0024 - val_mae: 0.0403\n",
            "Epoch 27/100\n",
            "3/3 [==============================] - 0s 67ms/step - loss: 0.0106 - mae: 0.0807 - val_loss: 0.0016 - val_mae: 0.0349\n",
            "Epoch 28/100\n",
            "3/3 [==============================] - 0s 86ms/step - loss: 0.0103 - mae: 0.0832 - val_loss: 0.0014 - val_mae: 0.0331\n",
            "Epoch 29/100\n",
            "3/3 [==============================] - 0s 92ms/step - loss: 0.0092 - mae: 0.0732 - val_loss: 0.0047 - val_mae: 0.0570\n",
            "Epoch 30/100\n",
            "3/3 [==============================] - 0s 92ms/step - loss: 0.0112 - mae: 0.0885 - val_loss: 0.0024 - val_mae: 0.0431\n",
            "Epoch 31/100\n",
            "3/3 [==============================] - 0s 87ms/step - loss: 0.0077 - mae: 0.0668 - val_loss: 0.0030 - val_mae: 0.0464\n",
            "Epoch 32/100\n",
            "3/3 [==============================] - 0s 84ms/step - loss: 0.0085 - mae: 0.0728 - val_loss: 0.0019 - val_mae: 0.0405\n",
            "Epoch 33/100\n",
            "3/3 [==============================] - 0s 101ms/step - loss: 0.0075 - mae: 0.0703 - val_loss: 0.0026 - val_mae: 0.0412\n",
            "Epoch 34/100\n",
            "3/3 [==============================] - 0s 68ms/step - loss: 0.0067 - mae: 0.0664 - val_loss: 0.0012 - val_mae: 0.0294\n",
            "Epoch 35/100\n",
            "3/3 [==============================] - 0s 47ms/step - loss: 0.0070 - mae: 0.0673 - val_loss: 0.0013 - val_mae: 0.0293\n",
            "Epoch 36/100\n",
            "3/3 [==============================] - 0s 44ms/step - loss: 0.0091 - mae: 0.0739 - val_loss: 0.0033 - val_mae: 0.0490\n",
            "Epoch 37/100\n",
            "3/3 [==============================] - 0s 48ms/step - loss: 0.0091 - mae: 0.0753 - val_loss: 0.0016 - val_mae: 0.0380\n",
            "Epoch 38/100\n",
            "3/3 [==============================] - 0s 46ms/step - loss: 0.0067 - mae: 0.0664 - val_loss: 0.0016 - val_mae: 0.0350\n",
            "Epoch 39/100\n",
            "3/3 [==============================] - 0s 51ms/step - loss: 0.0096 - mae: 0.0788 - val_loss: 0.0017 - val_mae: 0.0359\n",
            "Epoch 40/100\n",
            "3/3 [==============================] - 0s 51ms/step - loss: 0.0080 - mae: 0.0712 - val_loss: 0.0020 - val_mae: 0.0396\n",
            "Epoch 41/100\n",
            "3/3 [==============================] - 0s 54ms/step - loss: 0.0057 - mae: 0.0617 - val_loss: 0.0020 - val_mae: 0.0395\n",
            "Epoch 42/100\n",
            "3/3 [==============================] - 0s 48ms/step - loss: 0.0076 - mae: 0.0723 - val_loss: 0.0032 - val_mae: 0.0491\n",
            "Epoch 43/100\n",
            "3/3 [==============================] - 0s 53ms/step - loss: 0.0060 - mae: 0.0628 - val_loss: 0.0021 - val_mae: 0.0425\n",
            "Epoch 44/100\n",
            "3/3 [==============================] - 0s 51ms/step - loss: 0.0073 - mae: 0.0680 - val_loss: 0.0020 - val_mae: 0.0411\n",
            "Epoch 45/100\n",
            "3/3 [==============================] - 0s 52ms/step - loss: 0.0082 - mae: 0.0740 - val_loss: 0.0036 - val_mae: 0.0489\n",
            "Epoch 46/100\n",
            "3/3 [==============================] - 0s 46ms/step - loss: 0.0072 - mae: 0.0648 - val_loss: 0.0020 - val_mae: 0.0377\n",
            "Epoch 47/100\n",
            "3/3 [==============================] - 0s 48ms/step - loss: 0.0061 - mae: 0.0668 - val_loss: 0.0022 - val_mae: 0.0424\n",
            "Epoch 48/100\n",
            "3/3 [==============================] - 0s 55ms/step - loss: 0.0069 - mae: 0.0673 - val_loss: 0.0028 - val_mae: 0.0448\n",
            "Epoch 49/100\n",
            "3/3 [==============================] - 0s 47ms/step - loss: 0.0079 - mae: 0.0701 - val_loss: 0.0037 - val_mae: 0.0484\n",
            "Epoch 50/100\n",
            "3/3 [==============================] - 0s 46ms/step - loss: 0.0073 - mae: 0.0668 - val_loss: 0.0034 - val_mae: 0.0515\n",
            "Epoch 51/100\n",
            "3/3 [==============================] - 0s 47ms/step - loss: 0.0087 - mae: 0.0779 - val_loss: 0.0027 - val_mae: 0.0470\n",
            "Epoch 52/100\n",
            "3/3 [==============================] - 0s 62ms/step - loss: 0.0063 - mae: 0.0647 - val_loss: 0.0027 - val_mae: 0.0401\n",
            "Epoch 53/100\n",
            "3/3 [==============================] - 0s 54ms/step - loss: 0.0064 - mae: 0.0616 - val_loss: 0.0017 - val_mae: 0.0396\n",
            "Epoch 54/100\n",
            "3/3 [==============================] - 0s 54ms/step - loss: 0.0083 - mae: 0.0744 - val_loss: 0.0026 - val_mae: 0.0445\n",
            "Epoch 55/100\n",
            "3/3 [==============================] - 0s 49ms/step - loss: 0.0060 - mae: 0.0630 - val_loss: 0.0026 - val_mae: 0.0426\n",
            "Epoch 56/100\n",
            "3/3 [==============================] - 0s 51ms/step - loss: 0.0060 - mae: 0.0629 - val_loss: 0.0027 - val_mae: 0.0412\n",
            "Epoch 57/100\n",
            "3/3 [==============================] - 0s 50ms/step - loss: 0.0062 - mae: 0.0644 - val_loss: 9.6054e-04 - val_mae: 0.0277\n",
            "Epoch 58/100\n",
            "3/3 [==============================] - 0s 53ms/step - loss: 0.0069 - mae: 0.0638 - val_loss: 8.5784e-04 - val_mae: 0.0256\n",
            "Epoch 59/100\n",
            "3/3 [==============================] - 0s 48ms/step - loss: 0.0060 - mae: 0.0658 - val_loss: 0.0019 - val_mae: 0.0350\n",
            "Epoch 60/100\n",
            "3/3 [==============================] - 0s 48ms/step - loss: 0.0061 - mae: 0.0638 - val_loss: 8.5545e-04 - val_mae: 0.0261\n",
            "Epoch 61/100\n",
            "3/3 [==============================] - 0s 51ms/step - loss: 0.0050 - mae: 0.0572 - val_loss: 0.0017 - val_mae: 0.0370\n",
            "Epoch 62/100\n",
            "3/3 [==============================] - 0s 53ms/step - loss: 0.0075 - mae: 0.0696 - val_loss: 0.0023 - val_mae: 0.0413\n",
            "Epoch 63/100\n",
            "3/3 [==============================] - 0s 49ms/step - loss: 0.0058 - mae: 0.0623 - val_loss: 0.0027 - val_mae: 0.0453\n",
            "Epoch 64/100\n",
            "3/3 [==============================] - 0s 49ms/step - loss: 0.0055 - mae: 0.0613 - val_loss: 0.0022 - val_mae: 0.0405\n",
            "Epoch 65/100\n",
            "3/3 [==============================] - 0s 61ms/step - loss: 0.0051 - mae: 0.0575 - val_loss: 0.0021 - val_mae: 0.0358\n",
            "Epoch 66/100\n",
            "3/3 [==============================] - 0s 52ms/step - loss: 0.0058 - mae: 0.0635 - val_loss: 0.0019 - val_mae: 0.0366\n",
            "Epoch 67/100\n",
            "3/3 [==============================] - 0s 48ms/step - loss: 0.0064 - mae: 0.0634 - val_loss: 0.0023 - val_mae: 0.0396\n",
            "Epoch 68/100\n",
            "3/3 [==============================] - 0s 48ms/step - loss: 0.0052 - mae: 0.0597 - val_loss: 0.0026 - val_mae: 0.0431\n",
            "Epoch 69/100\n",
            "3/3 [==============================] - 0s 52ms/step - loss: 0.0059 - mae: 0.0639 - val_loss: 0.0021 - val_mae: 0.0389\n",
            "Epoch 70/100\n",
            "3/3 [==============================] - 0s 51ms/step - loss: 0.0054 - mae: 0.0580 - val_loss: 0.0016 - val_mae: 0.0327\n",
            "Epoch 71/100\n",
            "3/3 [==============================] - 0s 53ms/step - loss: 0.0055 - mae: 0.0600 - val_loss: 0.0016 - val_mae: 0.0361\n",
            "Epoch 72/100\n",
            "3/3 [==============================] - 0s 50ms/step - loss: 0.0073 - mae: 0.0665 - val_loss: 0.0020 - val_mae: 0.0388\n",
            "Epoch 73/100\n",
            "3/3 [==============================] - 0s 47ms/step - loss: 0.0057 - mae: 0.0626 - val_loss: 0.0026 - val_mae: 0.0448\n",
            "Epoch 74/100\n",
            "3/3 [==============================] - 0s 50ms/step - loss: 0.0071 - mae: 0.0668 - val_loss: 0.0022 - val_mae: 0.0421\n",
            "Epoch 75/100\n",
            "3/3 [==============================] - 0s 48ms/step - loss: 0.0050 - mae: 0.0571 - val_loss: 0.0028 - val_mae: 0.0422\n",
            "Epoch 76/100\n",
            "3/3 [==============================] - 0s 49ms/step - loss: 0.0058 - mae: 0.0608 - val_loss: 0.0014 - val_mae: 0.0315\n",
            "Epoch 77/100\n",
            "3/3 [==============================] - 0s 54ms/step - loss: 0.0056 - mae: 0.0642 - val_loss: 0.0027 - val_mae: 0.0411\n",
            "Epoch 78/100\n",
            "3/3 [==============================] - 0s 50ms/step - loss: 0.0059 - mae: 0.0595 - val_loss: 0.0016 - val_mae: 0.0351\n",
            "Epoch 79/100\n",
            "3/3 [==============================] - 0s 76ms/step - loss: 0.0056 - mae: 0.0573 - val_loss: 0.0014 - val_mae: 0.0325\n",
            "Epoch 80/100\n",
            "3/3 [==============================] - 0s 77ms/step - loss: 0.0043 - mae: 0.0535 - val_loss: 0.0015 - val_mae: 0.0338\n",
            "Epoch 81/100\n",
            "3/3 [==============================] - 0s 96ms/step - loss: 0.0047 - mae: 0.0519 - val_loss: 0.0016 - val_mae: 0.0359\n",
            "Epoch 82/100\n",
            "3/3 [==============================] - 0s 91ms/step - loss: 0.0041 - mae: 0.0495 - val_loss: 0.0020 - val_mae: 0.0392\n",
            "Epoch 83/100\n",
            "3/3 [==============================] - 0s 90ms/step - loss: 0.0058 - mae: 0.0602 - val_loss: 0.0015 - val_mae: 0.0335\n",
            "Epoch 84/100\n",
            "3/3 [==============================] - 0s 96ms/step - loss: 0.0054 - mae: 0.0594 - val_loss: 0.0017 - val_mae: 0.0351\n",
            "Epoch 85/100\n",
            "3/3 [==============================] - 0s 53ms/step - loss: 0.0043 - mae: 0.0528 - val_loss: 0.0015 - val_mae: 0.0349\n",
            "Epoch 86/100\n",
            "3/3 [==============================] - 0s 66ms/step - loss: 0.0053 - mae: 0.0593 - val_loss: 0.0017 - val_mae: 0.0359\n",
            "Epoch 87/100\n",
            "3/3 [==============================] - 0s 54ms/step - loss: 0.0054 - mae: 0.0602 - val_loss: 0.0016 - val_mae: 0.0358\n",
            "Epoch 88/100\n",
            "3/3 [==============================] - 0s 56ms/step - loss: 0.0052 - mae: 0.0594 - val_loss: 0.0019 - val_mae: 0.0368\n",
            "Epoch 89/100\n",
            "3/3 [==============================] - 0s 49ms/step - loss: 0.0045 - mae: 0.0537 - val_loss: 0.0017 - val_mae: 0.0360\n",
            "Epoch 90/100\n",
            "3/3 [==============================] - 0s 48ms/step - loss: 0.0049 - mae: 0.0570 - val_loss: 0.0016 - val_mae: 0.0322\n",
            "Epoch 91/100\n",
            "3/3 [==============================] - 0s 50ms/step - loss: 0.0042 - mae: 0.0507 - val_loss: 0.0011 - val_mae: 0.0274\n",
            "Epoch 92/100\n",
            "3/3 [==============================] - 0s 56ms/step - loss: 0.0038 - mae: 0.0496 - val_loss: 0.0017 - val_mae: 0.0343\n",
            "Epoch 93/100\n",
            "3/3 [==============================] - 0s 61ms/step - loss: 0.0066 - mae: 0.0634 - val_loss: 0.0010 - val_mae: 0.0267\n",
            "Epoch 94/100\n",
            "3/3 [==============================] - 0s 47ms/step - loss: 0.0053 - mae: 0.0557 - val_loss: 0.0016 - val_mae: 0.0350\n",
            "Epoch 95/100\n",
            "3/3 [==============================] - 0s 49ms/step - loss: 0.0067 - mae: 0.0643 - val_loss: 0.0021 - val_mae: 0.0409\n",
            "Epoch 96/100\n",
            "3/3 [==============================] - 0s 50ms/step - loss: 0.0053 - mae: 0.0602 - val_loss: 0.0015 - val_mae: 0.0333\n",
            "Epoch 97/100\n",
            "3/3 [==============================] - 0s 48ms/step - loss: 0.0042 - mae: 0.0497 - val_loss: 0.0012 - val_mae: 0.0297\n",
            "Epoch 98/100\n",
            "3/3 [==============================] - 0s 49ms/step - loss: 0.0050 - mae: 0.0566 - val_loss: 0.0024 - val_mae: 0.0395\n",
            "Epoch 99/100\n",
            "3/3 [==============================] - 0s 52ms/step - loss: 0.0049 - mae: 0.0583 - val_loss: 0.0018 - val_mae: 0.0333\n",
            "Epoch 100/100\n",
            "3/3 [==============================] - 0s 49ms/step - loss: 0.0053 - mae: 0.0537 - val_loss: 0.0019 - val_mae: 0.0390\n"
          ]
        }
      ],
      "source": [
        "# We can stack multiple LSTM layers and add regularization.  \n",
        "\n",
        "inputs = keras.Input(shape=(sequence_length, n_features))\n",
        "x = layers.SimpleRNN(32, recurrent_dropout=0.1, return_sequences=True)(inputs)\n",
        "x = layers.SimpleRNN(32, recurrent_dropout=0.1)(x)\n",
        "x = layers.Dropout(0.1)(x)\n",
        "\n",
        "outputs = layers.Dense(1)(x)\n",
        "model = keras.Model(inputs, outputs)\n",
        "\n",
        "callbacks = [\n",
        "    keras.callbacks.ModelCheckpoint(\"RNN_stacked_regularized.keras\",\n",
        "                                    save_best_only=True)\n",
        "]\n",
        "\n",
        "model.compile(optimizer=\"rmsprop\", loss=\"mse\", metrics=[\"mae\"])\n",
        "history = model.fit(train_dataset,\n",
        "                    epochs=100,\n",
        "                    validation_data=val_dataset,\n",
        "                    callbacks=callbacks)\n"
      ]
    },
    {
      "cell_type": "code",
      "execution_count": null,
      "metadata": {
        "colab": {
          "base_uri": "https://localhost:8080/",
          "height": 452
        },
        "id": "96ejgurgdGoR",
        "outputId": "93dcc2e8-fcf5-4716-8aa9-ae5b745a5258"
      },
      "outputs": [
        {
          "data": {
            "image/png": "[encoded data removed]",
            "text/plain": [
              "<Figure size 640x480 with 1 Axes>"
            ]
          },
          "metadata": {},
          "output_type": "display_data"
        }
      ],
      "source": [
        "loss_df = pd.DataFrame(history.history)\n",
        "loss_df[['loss', 'val_loss']].plot(legend=True, title='Training and Validation Loss')\n",
        "plt.show()"
      ]
    },
    {
      "cell_type": "code",
      "execution_count": null,
      "metadata": {
        "colab": {
          "base_uri": "https://localhost:8080/"
        },
        "id": "2kNGl_GAdFr5",
        "outputId": "10330087-2f04-44f5-bdbe-69b74e68b0f0"
      },
      "outputs": [
        {
          "name": "stdout",
          "output_type": "stream",
          "text": [
            "1/1 [==============================] - 0s 402ms/step - loss: 6.1041e-04 - mae: 0.0208\n",
            "Test MAE: 0.021\n"
          ]
        }
      ],
      "source": [
        "model = keras.models.load_model(\"RNN_stacked_regularized.keras\")\n",
        "print(f\"Test MAE: {model.evaluate(test_dataset)[1]:.3f}\")\n"
      ]
    },
    {
      "cell_type": "markdown",
      "metadata": {
        "id": "djetsdkddpJn"
      },
      "source": [
        "# Bidirectional RNN? "
      ]
    },
    {
      "cell_type": "code",
      "execution_count": null,
      "metadata": {
        "colab": {
          "base_uri": "https://localhost:8080/"
        },
        "id": "qpW6HJRBeJnX",
        "outputId": "d2c7fa2d-ea91-4678-d464-85b0f784888e"
      },
      "outputs": [
        {
          "name": "stdout",
          "output_type": "stream",
          "text": [
            "Epoch 1/100\n",
            "3/3 [==============================] - 4s 171ms/step - loss: 0.0185 - mae: 0.1148 - val_loss: 0.0051 - val_mae: 0.0590\n",
            "Epoch 2/100\n",
            "3/3 [==============================] - 0s 62ms/step - loss: 0.0060 - mae: 0.0604 - val_loss: 0.0027 - val_mae: 0.0427\n",
            "Epoch 3/100\n",
            "3/3 [==============================] - 0s 46ms/step - loss: 0.0036 - mae: 0.0475 - val_loss: 0.0021 - val_mae: 0.0376\n",
            "Epoch 4/100\n",
            "3/3 [==============================] - 0s 36ms/step - loss: 0.0033 - mae: 0.0464 - val_loss: 0.0023 - val_mae: 0.0415\n",
            "Epoch 5/100\n",
            "3/3 [==============================] - 0s 44ms/step - loss: 0.0025 - mae: 0.0388 - val_loss: 0.0018 - val_mae: 0.0374\n",
            "Epoch 6/100\n",
            "3/3 [==============================] - 0s 43ms/step - loss: 0.0024 - mae: 0.0390 - val_loss: 4.4897e-04 - val_mae: 0.0173\n",
            "Epoch 7/100\n",
            "3/3 [==============================] - 0s 44ms/step - loss: 0.0029 - mae: 0.0423 - val_loss: 0.0025 - val_mae: 0.0430\n",
            "Epoch 8/100\n",
            "3/3 [==============================] - 0s 51ms/step - loss: 0.0031 - mae: 0.0461 - val_loss: 0.0012 - val_mae: 0.0288\n",
            "Epoch 9/100\n",
            "3/3 [==============================] - 0s 34ms/step - loss: 0.0024 - mae: 0.0378 - val_loss: 0.0039 - val_mae: 0.0509\n",
            "Epoch 10/100\n",
            "3/3 [==============================] - 0s 35ms/step - loss: 0.0030 - mae: 0.0432 - val_loss: 0.0014 - val_mae: 0.0288\n",
            "Epoch 11/100\n",
            "3/3 [==============================] - 0s 109ms/step - loss: 0.0026 - mae: 0.0391 - val_loss: 0.0026 - val_mae: 0.0430\n",
            "Epoch 12/100\n",
            "3/3 [==============================] - 0s 90ms/step - loss: 0.0027 - mae: 0.0421 - val_loss: 0.0020 - val_mae: 0.0365\n",
            "Epoch 13/100\n",
            "3/3 [==============================] - 0s 137ms/step - loss: 0.0031 - mae: 0.0433 - val_loss: 0.0011 - val_mae: 0.0283\n",
            "Epoch 14/100\n",
            "3/3 [==============================] - 0s 83ms/step - loss: 0.0029 - mae: 0.0422 - val_loss: 6.5646e-04 - val_mae: 0.0207\n",
            "Epoch 15/100\n",
            "3/3 [==============================] - 0s 34ms/step - loss: 0.0026 - mae: 0.0390 - val_loss: 0.0011 - val_mae: 0.0257\n",
            "Epoch 16/100\n",
            "3/3 [==============================] - 0s 41ms/step - loss: 0.0032 - mae: 0.0448 - val_loss: 0.0024 - val_mae: 0.0424\n",
            "Epoch 17/100\n",
            "3/3 [==============================] - 0s 32ms/step - loss: 0.0026 - mae: 0.0384 - val_loss: 0.0019 - val_mae: 0.0390\n",
            "Epoch 18/100\n",
            "3/3 [==============================] - 0s 38ms/step - loss: 0.0027 - mae: 0.0399 - val_loss: 9.2097e-04 - val_mae: 0.0258\n",
            "Epoch 19/100\n",
            "3/3 [==============================] - 0s 37ms/step - loss: 0.0025 - mae: 0.0367 - val_loss: 9.1048e-04 - val_mae: 0.0246\n",
            "Epoch 20/100\n",
            "3/3 [==============================] - 0s 35ms/step - loss: 0.0029 - mae: 0.0413 - val_loss: 0.0024 - val_mae: 0.0391\n",
            "Epoch 21/100\n",
            "3/3 [==============================] - 0s 35ms/step - loss: 0.0030 - mae: 0.0418 - val_loss: 0.0014 - val_mae: 0.0309\n",
            "Epoch 22/100\n",
            "3/3 [==============================] - 0s 36ms/step - loss: 0.0030 - mae: 0.0441 - val_loss: 0.0015 - val_mae: 0.0355\n",
            "Epoch 23/100\n",
            "3/3 [==============================] - 0s 35ms/step - loss: 0.0024 - mae: 0.0378 - val_loss: 0.0016 - val_mae: 0.0327\n",
            "Epoch 24/100\n",
            "3/3 [==============================] - 0s 113ms/step - loss: 0.0024 - mae: 0.0379 - val_loss: 0.0011 - val_mae: 0.0283\n",
            "Epoch 25/100\n",
            "3/3 [==============================] - 0s 79ms/step - loss: 0.0025 - mae: 0.0416 - val_loss: 5.9695e-04 - val_mae: 0.0199\n",
            "Epoch 26/100\n",
            "3/3 [==============================] - 0s 90ms/step - loss: 0.0028 - mae: 0.0405 - val_loss: 0.0017 - val_mae: 0.0346\n",
            "Epoch 27/100\n",
            "3/3 [==============================] - 0s 35ms/step - loss: 0.0031 - mae: 0.0470 - val_loss: 0.0035 - val_mae: 0.0483\n",
            "Epoch 28/100\n",
            "3/3 [==============================] - 0s 34ms/step - loss: 0.0028 - mae: 0.0422 - val_loss: 0.0033 - val_mae: 0.0480\n",
            "Epoch 29/100\n",
            "3/3 [==============================] - 0s 37ms/step - loss: 0.0029 - mae: 0.0418 - val_loss: 0.0010 - val_mae: 0.0286\n",
            "Epoch 30/100\n",
            "3/3 [==============================] - 0s 33ms/step - loss: 0.0025 - mae: 0.0397 - val_loss: 9.4382e-04 - val_mae: 0.0238\n",
            "Epoch 31/100\n",
            "3/3 [==============================] - 0s 36ms/step - loss: 0.0025 - mae: 0.0378 - val_loss: 0.0011 - val_mae: 0.0274\n",
            "Epoch 32/100\n",
            "3/3 [==============================] - 0s 35ms/step - loss: 0.0026 - mae: 0.0393 - val_loss: 0.0055 - val_mae: 0.0669\n",
            "Epoch 33/100\n",
            "3/3 [==============================] - 0s 34ms/step - loss: 0.0033 - mae: 0.0443 - val_loss: 9.8121e-04 - val_mae: 0.0259\n",
            "Epoch 34/100\n",
            "3/3 [==============================] - 0s 34ms/step - loss: 0.0024 - mae: 0.0401 - val_loss: 0.0010 - val_mae: 0.0240\n",
            "Epoch 35/100\n",
            "3/3 [==============================] - 0s 35ms/step - loss: 0.0025 - mae: 0.0387 - val_loss: 0.0019 - val_mae: 0.0360\n",
            "Epoch 36/100\n",
            "3/3 [==============================] - 0s 38ms/step - loss: 0.0024 - mae: 0.0400 - val_loss: 5.0992e-04 - val_mae: 0.0187\n",
            "Epoch 37/100\n",
            "3/3 [==============================] - 0s 38ms/step - loss: 0.0027 - mae: 0.0390 - val_loss: 9.6539e-04 - val_mae: 0.0257\n",
            "Epoch 38/100\n",
            "3/3 [==============================] - 0s 39ms/step - loss: 0.0026 - mae: 0.0390 - val_loss: 0.0035 - val_mae: 0.0481\n",
            "Epoch 39/100\n",
            "3/3 [==============================] - 0s 38ms/step - loss: 0.0031 - mae: 0.0447 - val_loss: 0.0016 - val_mae: 0.0348\n",
            "Epoch 40/100\n",
            "3/3 [==============================] - 0s 37ms/step - loss: 0.0027 - mae: 0.0426 - val_loss: 8.0479e-04 - val_mae: 0.0236\n",
            "Epoch 41/100\n",
            "3/3 [==============================] - 0s 34ms/step - loss: 0.0025 - mae: 0.0385 - val_loss: 9.7428e-04 - val_mae: 0.0244\n",
            "Epoch 42/100\n",
            "3/3 [==============================] - 0s 34ms/step - loss: 0.0027 - mae: 0.0397 - val_loss: 0.0016 - val_mae: 0.0337\n",
            "Epoch 43/100\n",
            "3/3 [==============================] - 0s 48ms/step - loss: 0.0024 - mae: 0.0410 - val_loss: 3.9866e-04 - val_mae: 0.0165\n",
            "Epoch 44/100\n",
            "3/3 [==============================] - 0s 33ms/step - loss: 0.0025 - mae: 0.0376 - val_loss: 0.0015 - val_mae: 0.0330\n",
            "Epoch 45/100\n",
            "3/3 [==============================] - 0s 32ms/step - loss: 0.0036 - mae: 0.0451 - val_loss: 5.4842e-04 - val_mae: 0.0209\n",
            "Epoch 46/100\n",
            "3/3 [==============================] - 0s 34ms/step - loss: 0.0027 - mae: 0.0415 - val_loss: 8.6708e-04 - val_mae: 0.0239\n",
            "Epoch 47/100\n",
            "3/3 [==============================] - 0s 33ms/step - loss: 0.0025 - mae: 0.0390 - val_loss: 0.0013 - val_mae: 0.0280\n",
            "Epoch 48/100\n",
            "3/3 [==============================] - 0s 39ms/step - loss: 0.0030 - mae: 0.0442 - val_loss: 0.0012 - val_mae: 0.0308\n",
            "Epoch 49/100\n",
            "3/3 [==============================] - 0s 37ms/step - loss: 0.0025 - mae: 0.0394 - val_loss: 0.0011 - val_mae: 0.0277\n",
            "Epoch 50/100\n",
            "3/3 [==============================] - 0s 35ms/step - loss: 0.0027 - mae: 0.0389 - val_loss: 0.0011 - val_mae: 0.0284\n",
            "Epoch 51/100\n",
            "3/3 [==============================] - 0s 38ms/step - loss: 0.0024 - mae: 0.0387 - val_loss: 7.4749e-04 - val_mae: 0.0235\n",
            "Epoch 52/100\n",
            "3/3 [==============================] - 0s 33ms/step - loss: 0.0025 - mae: 0.0392 - val_loss: 0.0014 - val_mae: 0.0331\n",
            "Epoch 53/100\n",
            "3/3 [==============================] - 0s 31ms/step - loss: 0.0026 - mae: 0.0415 - val_loss: 0.0016 - val_mae: 0.0353\n",
            "Epoch 54/100\n",
            "3/3 [==============================] - 0s 74ms/step - loss: 0.0023 - mae: 0.0383 - val_loss: 0.0013 - val_mae: 0.0247\n",
            "Epoch 55/100\n",
            "3/3 [==============================] - 0s 70ms/step - loss: 0.0028 - mae: 0.0406 - val_loss: 0.0017 - val_mae: 0.0363\n",
            "Epoch 56/100\n",
            "3/3 [==============================] - 0s 58ms/step - loss: 0.0028 - mae: 0.0422 - val_loss: 0.0014 - val_mae: 0.0309\n",
            "Epoch 57/100\n",
            "3/3 [==============================] - 0s 74ms/step - loss: 0.0025 - mae: 0.0388 - val_loss: 0.0011 - val_mae: 0.0287\n",
            "Epoch 58/100\n",
            "3/3 [==============================] - 0s 64ms/step - loss: 0.0027 - mae: 0.0414 - val_loss: 6.1039e-04 - val_mae: 0.0202\n",
            "Epoch 59/100\n",
            "3/3 [==============================] - 0s 86ms/step - loss: 0.0027 - mae: 0.0419 - val_loss: 3.9416e-04 - val_mae: 0.0171\n",
            "Epoch 60/100\n",
            "3/3 [==============================] - 0s 66ms/step - loss: 0.0024 - mae: 0.0374 - val_loss: 0.0016 - val_mae: 0.0366\n",
            "Epoch 61/100\n",
            "3/3 [==============================] - 0s 35ms/step - loss: 0.0028 - mae: 0.0404 - val_loss: 8.3756e-04 - val_mae: 0.0248\n",
            "Epoch 62/100\n",
            "3/3 [==============================] - 0s 34ms/step - loss: 0.0024 - mae: 0.0377 - val_loss: 0.0011 - val_mae: 0.0247\n",
            "Epoch 63/100\n",
            "3/3 [==============================] - 0s 35ms/step - loss: 0.0033 - mae: 0.0445 - val_loss: 8.9067e-04 - val_mae: 0.0229\n",
            "Epoch 64/100\n",
            "3/3 [==============================] - 0s 33ms/step - loss: 0.0029 - mae: 0.0405 - val_loss: 5.8629e-04 - val_mae: 0.0200\n",
            "Epoch 65/100\n",
            "3/3 [==============================] - 0s 32ms/step - loss: 0.0026 - mae: 0.0396 - val_loss: 8.7879e-04 - val_mae: 0.0258\n",
            "Epoch 66/100\n",
            "3/3 [==============================] - 0s 34ms/step - loss: 0.0024 - mae: 0.0396 - val_loss: 6.7429e-04 - val_mae: 0.0231\n",
            "Epoch 67/100\n",
            "3/3 [==============================] - 0s 34ms/step - loss: 0.0024 - mae: 0.0389 - val_loss: 7.0257e-04 - val_mae: 0.0228\n",
            "Epoch 68/100\n",
            "3/3 [==============================] - 0s 34ms/step - loss: 0.0025 - mae: 0.0383 - val_loss: 0.0015 - val_mae: 0.0315\n",
            "Epoch 69/100\n",
            "3/3 [==============================] - 0s 32ms/step - loss: 0.0026 - mae: 0.0400 - val_loss: 6.8245e-04 - val_mae: 0.0215\n",
            "Epoch 70/100\n",
            "3/3 [==============================] - 0s 37ms/step - loss: 0.0030 - mae: 0.0433 - val_loss: 0.0015 - val_mae: 0.0346\n",
            "Epoch 71/100\n",
            "3/3 [==============================] - 0s 33ms/step - loss: 0.0030 - mae: 0.0424 - val_loss: 9.9281e-04 - val_mae: 0.0277\n",
            "Epoch 72/100\n",
            "3/3 [==============================] - 0s 36ms/step - loss: 0.0025 - mae: 0.0395 - val_loss: 0.0024 - val_mae: 0.0427\n",
            "Epoch 73/100\n",
            "3/3 [==============================] - 0s 35ms/step - loss: 0.0025 - mae: 0.0410 - val_loss: 8.8681e-04 - val_mae: 0.0260\n",
            "Epoch 74/100\n",
            "3/3 [==============================] - 0s 33ms/step - loss: 0.0024 - mae: 0.0391 - val_loss: 9.4928e-04 - val_mae: 0.0259\n",
            "Epoch 75/100\n",
            "3/3 [==============================] - 0s 35ms/step - loss: 0.0022 - mae: 0.0365 - val_loss: 0.0012 - val_mae: 0.0291\n",
            "Epoch 76/100\n",
            "3/3 [==============================] - 0s 34ms/step - loss: 0.0026 - mae: 0.0403 - val_loss: 0.0027 - val_mae: 0.0427\n",
            "Epoch 77/100\n",
            "3/3 [==============================] - 0s 37ms/step - loss: 0.0026 - mae: 0.0395 - val_loss: 4.3250e-04 - val_mae: 0.0162\n",
            "Epoch 78/100\n",
            "3/3 [==============================] - 0s 45ms/step - loss: 0.0025 - mae: 0.0393 - val_loss: 3.6111e-04 - val_mae: 0.0160\n",
            "Epoch 79/100\n",
            "3/3 [==============================] - 0s 39ms/step - loss: 0.0026 - mae: 0.0388 - val_loss: 0.0016 - val_mae: 0.0359\n",
            "Epoch 80/100\n",
            "3/3 [==============================] - 0s 35ms/step - loss: 0.0024 - mae: 0.0398 - val_loss: 9.5845e-04 - val_mae: 0.0263\n",
            "Epoch 81/100\n",
            "3/3 [==============================] - 0s 34ms/step - loss: 0.0026 - mae: 0.0401 - val_loss: 0.0018 - val_mae: 0.0372\n",
            "Epoch 82/100\n",
            "3/3 [==============================] - 0s 37ms/step - loss: 0.0025 - mae: 0.0396 - val_loss: 9.2662e-04 - val_mae: 0.0257\n",
            "Epoch 83/100\n",
            "3/3 [==============================] - 0s 39ms/step - loss: 0.0025 - mae: 0.0404 - val_loss: 7.6463e-04 - val_mae: 0.0231\n",
            "Epoch 84/100\n",
            "3/3 [==============================] - 0s 39ms/step - loss: 0.0025 - mae: 0.0392 - val_loss: 0.0013 - val_mae: 0.0289\n",
            "Epoch 85/100\n",
            "3/3 [==============================] - 0s 36ms/step - loss: 0.0025 - mae: 0.0367 - val_loss: 3.6321e-04 - val_mae: 0.0157\n",
            "Epoch 86/100\n",
            "3/3 [==============================] - 0s 35ms/step - loss: 0.0025 - mae: 0.0396 - val_loss: 7.7632e-04 - val_mae: 0.0233\n",
            "Epoch 87/100\n",
            "3/3 [==============================] - 0s 38ms/step - loss: 0.0024 - mae: 0.0384 - val_loss: 6.1217e-04 - val_mae: 0.0218\n",
            "Epoch 88/100\n",
            "3/3 [==============================] - 0s 35ms/step - loss: 0.0022 - mae: 0.0360 - val_loss: 0.0022 - val_mae: 0.0430\n",
            "Epoch 89/100\n",
            "3/3 [==============================] - 0s 36ms/step - loss: 0.0025 - mae: 0.0396 - val_loss: 4.2274e-04 - val_mae: 0.0176\n",
            "Epoch 90/100\n",
            "3/3 [==============================] - 0s 40ms/step - loss: 0.0029 - mae: 0.0447 - val_loss: 8.2870e-04 - val_mae: 0.0225\n",
            "Epoch 91/100\n",
            "3/3 [==============================] - 0s 34ms/step - loss: 0.0023 - mae: 0.0363 - val_loss: 0.0017 - val_mae: 0.0338\n",
            "Epoch 92/100\n",
            "3/3 [==============================] - 0s 39ms/step - loss: 0.0025 - mae: 0.0403 - val_loss: 0.0014 - val_mae: 0.0328\n",
            "Epoch 93/100\n",
            "3/3 [==============================] - 0s 38ms/step - loss: 0.0023 - mae: 0.0370 - val_loss: 8.4368e-04 - val_mae: 0.0259\n",
            "Epoch 94/100\n",
            "3/3 [==============================] - 0s 34ms/step - loss: 0.0024 - mae: 0.0395 - val_loss: 8.5970e-04 - val_mae: 0.0259\n",
            "Epoch 95/100\n",
            "3/3 [==============================] - 0s 37ms/step - loss: 0.0024 - mae: 0.0375 - val_loss: 8.6251e-04 - val_mae: 0.0263\n",
            "Epoch 96/100\n",
            "3/3 [==============================] - 0s 33ms/step - loss: 0.0025 - mae: 0.0398 - val_loss: 3.8415e-04 - val_mae: 0.0171\n",
            "Epoch 97/100\n",
            "3/3 [==============================] - 0s 36ms/step - loss: 0.0025 - mae: 0.0384 - val_loss: 0.0017 - val_mae: 0.0367\n",
            "Epoch 98/100\n",
            "3/3 [==============================] - 0s 38ms/step - loss: 0.0024 - mae: 0.0380 - val_loss: 4.3968e-04 - val_mae: 0.0181\n",
            "Epoch 99/100\n",
            "3/3 [==============================] - 0s 36ms/step - loss: 0.0024 - mae: 0.0380 - val_loss: 0.0018 - val_mae: 0.0349\n",
            "Epoch 100/100\n",
            "3/3 [==============================] - 0s 38ms/step - loss: 0.0026 - mae: 0.0396 - val_loss: 9.9526e-04 - val_mae: 0.0259\n"
          ]
        }
      ],
      "source": [
        "inputs = keras.Input(shape=(sequence_length, n_features))\n",
        "x = layers.Bidirectional(layers.SimpleRNN(32))(inputs)\n",
        "outputs = layers.Dense(1)(x)\n",
        "model = keras.Model(inputs, outputs)\n",
        "\n",
        "callbacks = [\n",
        "    keras.callbacks.ModelCheckpoint(\"bidirectional_RNN.keras\",\n",
        "                                    save_best_only=True)\n",
        "]\n",
        "\n",
        "model.compile(optimizer=\"rmsprop\", loss=\"mse\", metrics=[\"mae\"])\n",
        "history = model.fit(train_dataset,\n",
        "                    epochs=100,\n",
        "                    validation_data=val_dataset, \n",
        "                    callbacks=callbacks)"
      ]
    },
    {
      "cell_type": "code",
      "execution_count": null,
      "metadata": {
        "colab": {
          "base_uri": "https://localhost:8080/",
          "height": 452
        },
        "id": "lHIJEYRjitoa",
        "outputId": "1d64d95d-fd79-4daf-c981-14e3a382e96a"
      },
      "outputs": [
        {
          "data": {
            "image/png": "[encoded data removed]",
            "text/plain": [
              "<Figure size 640x480 with 1 Axes>"
            ]
          },
          "metadata": {},
          "output_type": "display_data"
        }
      ],
      "source": [
        "loss_df = pd.DataFrame(history.history)\n",
        "loss_df[['loss', 'val_loss']].plot(legend=True, title='Training and Validation Loss')\n",
        "plt.show()"
      ]
    },
    {
      "cell_type": "code",
      "execution_count": null,
      "metadata": {
        "colab": {
          "base_uri": "https://localhost:8080/"
        },
        "id": "7ubVuvl6itoh",
        "outputId": "dff1b29e-09f3-4a5a-e508-62fe913f2bf1"
      },
      "outputs": [
        {
          "name": "stdout",
          "output_type": "stream",
          "text": [
            "1/1 [==============================] - 0s 280ms/step - loss: 7.3643e-04 - mae: 0.0194\n",
            "Test MAE: 0.019\n"
          ]
        }
      ],
      "source": [
        "model = keras.models.load_model(\"bidirectional_RNN.keras\")\n",
        "print(f\"Test MAE: {model.evaluate(test_dataset)[1]:.3f}\")\n"
      ]
    },
    {
      "cell_type": "markdown",
      "metadata": {
        "id": "_OyA4_lFjXt_"
      },
      "source": [
        "# Comparing Econometrics vs Machine Learning vs Deep Learning for univariate timeseries forecasting. \n",
        "\n",
        "**Benchmarks** \n",
        "* Seasonal Naive Forecaster test MAE = 0.023\n",
        "* Naive Forecaster test MAE = 0.11\n",
        "\n",
        "**Econometrics** \n",
        "* Auto ARIMA test MAE = 0.023\n",
        "* Auto ETS test MAE = 0.030\n",
        "\n",
        "**Machine Learning** \n",
        "* Catboost test MAE = 0.025\n",
        "* LightGBM test MAE = 0.028\n",
        "* XGboost test MAE = 0.03\n",
        "* Random Forest test MAE = 0.03\n",
        "\n",
        "**Deep Learning** \n",
        "* simple RNN test MAE = 0.014\n",
        "* Simple LSTM test MAE = 0.049\n",
        "* Stacked RNN with regularization = 0.02\n",
        "* Bidirectional RNN test MAE = 0.019"
      ]
    },
    {
      "cell_type": "markdown",
      "metadata": {
        "id": "KnnE3hQ_f2xq"
      },
      "source": [
        "# Done!"
      ]
    }
  ],
  "metadata": {
    "accelerator": "GPU",
    "colab": {
      "provenance": []
    },
    "gpuClass": "standard",
    "kernelspec": {
      "display_name": "pycaret3",
      "language": "python",
      "name": "python3"
    },
    "language_info": {
      "codemirror_mode": {
        "name": "ipython",
        "version": 3
      },
      "file_extension": ".py",
      "mimetype": "text/x-python",
      "name": "python",
      "nbconvert_exporter": "python",
      "pygments_lexer": "ipython3",
      "version": "3.9.16"
    },
    "vscode": {
      "interpreter": {
        "hash": "70a17a938d28cb9f3ce6e7fd8b769c73b98c32c83f1620bd3323eb94cf46c0b9"
      }
    }
  },
  "nbformat": 4,
  "nbformat_minor": 0
}
